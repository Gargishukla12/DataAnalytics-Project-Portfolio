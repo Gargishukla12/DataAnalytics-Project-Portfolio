{
    "metadata": {
        "kernelspec": {
            "name": "SQL",
            "display_name": "SQL",
            "language": "sql"
        },
        "language_info": {
            "name": "sql",
            "version": ""
        }
    },
    "nbformat_minor": 2,
    "nbformat": 4,
    "cells": [
        {
            "cell_type": "markdown",
            "source": [
                "# Exploratory Data Analysis\n",
                "\n",
                "Understanding the dataset to explore how the data is present in the database and if there is a need of creating some aggregated tables that can help with:\n",
                "\n",
                "1. Vendor selection for profitability\n",
                "2. Product Pricing Optimization"
            ],
            "metadata": {
                "azdata_cell_guid": "f3040fa2-7dfa-4202-895c-376cf504f24d"
            }
        },
        {
            "cell_type": "code",
            "source": [
                "import pandas as pd\n",
                "import sqlite3"
            ],
            "metadata": {
                "azdata_cell_guid": "531a73b3-97fd-4477-920b-73c7e1979bc4",
                "language": "sql"
            },
            "outputs": [],
            "execution_count": 2
        },
        {
            "cell_type": "code",
            "source": [
                "#creating database connection\n",
                "conn = sqlite3.connect('inventory.db')"
            ],
            "metadata": {
                "azdata_cell_guid": "8145736e-04a7-4d4b-b7cb-0b89ac3f7f8e",
                "language": "sql"
            },
            "outputs": [],
            "execution_count": 3
        },
        {
            "cell_type": "code",
            "source": [
                "#checking tables present in the database\n",
                "tables = pd.read_sql_query(\"SELECT name FROM sqlite_master WHERE type='table'\", conn)\n",
                "tables"
            ],
            "metadata": {
                "azdata_cell_guid": "a8231b66-fdb0-4b27-aa08-460f5fd3aedd",
                "language": "sql"
            },
            "outputs": [
                {
                    "output_type": "execute_result",
                    "execution_count": 4,
                    "data": {
                        "text/html": "<div>\n<style scoped>\n    .dataframe tbody tr th:only-of-type {\n        vertical-align: middle;\n    }\n\n    .dataframe tbody tr th {\n        vertical-align: top;\n    }\n\n    .dataframe thead th {\n        text-align: right;\n    }\n</style>\n<table border=\"1\" class=\"dataframe\">\n  <thead>\n    <tr style=\"text-align: right;\">\n      <th></th>\n      <th>name</th>\n    </tr>\n  </thead>\n  <tbody>\n    <tr>\n      <th>0</th>\n      <td>begin_inventory</td>\n    </tr>\n    <tr>\n      <th>1</th>\n      <td>end_inventory</td>\n    </tr>\n    <tr>\n      <th>2</th>\n      <td>purchases</td>\n    </tr>\n    <tr>\n      <th>3</th>\n      <td>purchase_prices</td>\n    </tr>\n    <tr>\n      <th>4</th>\n      <td>sales</td>\n    </tr>\n    <tr>\n      <th>5</th>\n      <td>vendor_invoice</td>\n    </tr>\n    <tr>\n      <th>6</th>\n      <td>summary_table</td>\n    </tr>\n  </tbody>\n</table>\n</div>",
                        "text/plain": "              name\n0  begin_inventory\n1    end_inventory\n2        purchases\n3  purchase_prices\n4            sales\n5   vendor_invoice\n6    summary_table"
                    },
                    "metadata": {}
                }
            ],
            "execution_count": 4
        },
        {
            "cell_type": "code",
            "source": [
                "for i in tables['name']:\n",
                "    print('-'*50, f'{i}','-'*50)\n",
                "    print('Count of records:', pd.read_sql(f\"select count(*) as count from {i}\", conn)['count'].values[0])\n",
                "    display(pd.read_sql(f\"select * from {i} limit 5\", conn))"
            ],
            "metadata": {
                "azdata_cell_guid": "74fe7aa4-7b2d-4f07-bad9-9c47bfadd5b3",
                "language": "sql"
            },
            "outputs": [
                {
                    "output_type": "stream",
                    "name": "stdout",
                    "text": "-------------------------------------------------- begin_inventory --------------------------------------------------\nCount of records: 206529\n"
                },
                {
                    "output_type": "display_data",
                    "data": {
                        "text/html": "<div>\n<style scoped>\n    .dataframe tbody tr th:only-of-type {\n        vertical-align: middle;\n    }\n\n    .dataframe tbody tr th {\n        vertical-align: top;\n    }\n\n    .dataframe thead th {\n        text-align: right;\n    }\n</style>\n<table border=\"1\" class=\"dataframe\">\n  <thead>\n    <tr style=\"text-align: right;\">\n      <th></th>\n      <th>InventoryId</th>\n      <th>Store</th>\n      <th>City</th>\n      <th>Brand</th>\n      <th>Description</th>\n      <th>Size</th>\n      <th>onHand</th>\n      <th>Price</th>\n      <th>startDate</th>\n    </tr>\n  </thead>\n  <tbody>\n    <tr>\n      <th>0</th>\n      <td>1_HARDERSFIELD_58</td>\n      <td>1</td>\n      <td>HARDERSFIELD</td>\n      <td>58</td>\n      <td>Gekkeikan Black &amp; Gold Sake</td>\n      <td>750mL</td>\n      <td>8</td>\n      <td>12.99</td>\n      <td>2024-01-01</td>\n    </tr>\n    <tr>\n      <th>1</th>\n      <td>1_HARDERSFIELD_60</td>\n      <td>1</td>\n      <td>HARDERSFIELD</td>\n      <td>60</td>\n      <td>Canadian Club 1858 VAP</td>\n      <td>750mL</td>\n      <td>7</td>\n      <td>10.99</td>\n      <td>2024-01-01</td>\n    </tr>\n    <tr>\n      <th>2</th>\n      <td>1_HARDERSFIELD_62</td>\n      <td>1</td>\n      <td>HARDERSFIELD</td>\n      <td>62</td>\n      <td>Herradura Silver Tequila</td>\n      <td>750mL</td>\n      <td>6</td>\n      <td>36.99</td>\n      <td>2024-01-01</td>\n    </tr>\n    <tr>\n      <th>3</th>\n      <td>1_HARDERSFIELD_63</td>\n      <td>1</td>\n      <td>HARDERSFIELD</td>\n      <td>63</td>\n      <td>Herradura Reposado Tequila</td>\n      <td>750mL</td>\n      <td>3</td>\n      <td>38.99</td>\n      <td>2024-01-01</td>\n    </tr>\n    <tr>\n      <th>4</th>\n      <td>1_HARDERSFIELD_72</td>\n      <td>1</td>\n      <td>HARDERSFIELD</td>\n      <td>72</td>\n      <td>No. 3 London Dry Gin</td>\n      <td>750mL</td>\n      <td>6</td>\n      <td>34.99</td>\n      <td>2024-01-01</td>\n    </tr>\n  </tbody>\n</table>\n</div>",
                        "text/plain": "         InventoryId  Store          City  Brand                  Description  \\\n0  1_HARDERSFIELD_58      1  HARDERSFIELD     58  Gekkeikan Black & Gold Sake   \n1  1_HARDERSFIELD_60      1  HARDERSFIELD     60       Canadian Club 1858 VAP   \n2  1_HARDERSFIELD_62      1  HARDERSFIELD     62     Herradura Silver Tequila   \n3  1_HARDERSFIELD_63      1  HARDERSFIELD     63   Herradura Reposado Tequila   \n4  1_HARDERSFIELD_72      1  HARDERSFIELD     72         No. 3 London Dry Gin   \n\n    Size  onHand  Price   startDate  \n0  750mL       8  12.99  2024-01-01  \n1  750mL       7  10.99  2024-01-01  \n2  750mL       6  36.99  2024-01-01  \n3  750mL       3  38.99  2024-01-01  \n4  750mL       6  34.99  2024-01-01  "
                    },
                    "metadata": {}
                },
                {
                    "output_type": "stream",
                    "name": "stdout",
                    "text": "-------------------------------------------------- end_inventory --------------------------------------------------\nCount of records: 224489\n"
                },
                {
                    "output_type": "display_data",
                    "data": {
                        "text/html": "<div>\n<style scoped>\n    .dataframe tbody tr th:only-of-type {\n        vertical-align: middle;\n    }\n\n    .dataframe tbody tr th {\n        vertical-align: top;\n    }\n\n    .dataframe thead th {\n        text-align: right;\n    }\n</style>\n<table border=\"1\" class=\"dataframe\">\n  <thead>\n    <tr style=\"text-align: right;\">\n      <th></th>\n      <th>InventoryId</th>\n      <th>Store</th>\n      <th>City</th>\n      <th>Brand</th>\n      <th>Description</th>\n      <th>Size</th>\n      <th>onHand</th>\n      <th>Price</th>\n      <th>endDate</th>\n    </tr>\n  </thead>\n  <tbody>\n    <tr>\n      <th>0</th>\n      <td>1_HARDERSFIELD_58</td>\n      <td>1</td>\n      <td>HARDERSFIELD</td>\n      <td>58</td>\n      <td>Gekkeikan Black &amp; Gold Sake</td>\n      <td>750mL</td>\n      <td>11</td>\n      <td>12.99</td>\n      <td>2024-12-31</td>\n    </tr>\n    <tr>\n      <th>1</th>\n      <td>1_HARDERSFIELD_62</td>\n      <td>1</td>\n      <td>HARDERSFIELD</td>\n      <td>62</td>\n      <td>Herradura Silver Tequila</td>\n      <td>750mL</td>\n      <td>7</td>\n      <td>36.99</td>\n      <td>2024-12-31</td>\n    </tr>\n    <tr>\n      <th>2</th>\n      <td>1_HARDERSFIELD_63</td>\n      <td>1</td>\n      <td>HARDERSFIELD</td>\n      <td>63</td>\n      <td>Herradura Reposado Tequila</td>\n      <td>750mL</td>\n      <td>7</td>\n      <td>38.99</td>\n      <td>2024-12-31</td>\n    </tr>\n    <tr>\n      <th>3</th>\n      <td>1_HARDERSFIELD_72</td>\n      <td>1</td>\n      <td>HARDERSFIELD</td>\n      <td>72</td>\n      <td>No. 3 London Dry Gin</td>\n      <td>750mL</td>\n      <td>4</td>\n      <td>34.99</td>\n      <td>2024-12-31</td>\n    </tr>\n    <tr>\n      <th>4</th>\n      <td>1_HARDERSFIELD_75</td>\n      <td>1</td>\n      <td>HARDERSFIELD</td>\n      <td>75</td>\n      <td>Three Olives Tomato Vodka</td>\n      <td>750mL</td>\n      <td>7</td>\n      <td>14.99</td>\n      <td>2024-12-31</td>\n    </tr>\n  </tbody>\n</table>\n</div>",
                        "text/plain": "         InventoryId  Store          City  Brand                  Description  \\\n0  1_HARDERSFIELD_58      1  HARDERSFIELD     58  Gekkeikan Black & Gold Sake   \n1  1_HARDERSFIELD_62      1  HARDERSFIELD     62     Herradura Silver Tequila   \n2  1_HARDERSFIELD_63      1  HARDERSFIELD     63   Herradura Reposado Tequila   \n3  1_HARDERSFIELD_72      1  HARDERSFIELD     72         No. 3 London Dry Gin   \n4  1_HARDERSFIELD_75      1  HARDERSFIELD     75    Three Olives Tomato Vodka   \n\n    Size  onHand  Price     endDate  \n0  750mL      11  12.99  2024-12-31  \n1  750mL       7  36.99  2024-12-31  \n2  750mL       7  38.99  2024-12-31  \n3  750mL       4  34.99  2024-12-31  \n4  750mL       7  14.99  2024-12-31  "
                    },
                    "metadata": {}
                },
                {
                    "output_type": "stream",
                    "name": "stdout",
                    "text": "-------------------------------------------------- purchases --------------------------------------------------\nCount of records: 2372474\n"
                },
                {
                    "output_type": "display_data",
                    "data": {
                        "text/html": "<div>\n<style scoped>\n    .dataframe tbody tr th:only-of-type {\n        vertical-align: middle;\n    }\n\n    .dataframe tbody tr th {\n        vertical-align: top;\n    }\n\n    .dataframe thead th {\n        text-align: right;\n    }\n</style>\n<table border=\"1\" class=\"dataframe\">\n  <thead>\n    <tr style=\"text-align: right;\">\n      <th></th>\n      <th>InventoryId</th>\n      <th>Store</th>\n      <th>Brand</th>\n      <th>Description</th>\n      <th>Size</th>\n      <th>VendorNumber</th>\n      <th>VendorName</th>\n      <th>PONumber</th>\n      <th>PODate</th>\n      <th>ReceivingDate</th>\n      <th>InvoiceDate</th>\n      <th>PayDate</th>\n      <th>PurchasePrice</th>\n      <th>Quantity</th>\n      <th>Dollars</th>\n      <th>Classification</th>\n    </tr>\n  </thead>\n  <tbody>\n    <tr>\n      <th>0</th>\n      <td>69_MOUNTMEND_8412</td>\n      <td>69</td>\n      <td>8412</td>\n      <td>Tequila Ocho Plata Fresno</td>\n      <td>750mL</td>\n      <td>105</td>\n      <td>ALTAMAR BRANDS LLC</td>\n      <td>8124</td>\n      <td>2023-12-21</td>\n      <td>2024-01-02</td>\n      <td>2024-01-04</td>\n      <td>2024-02-16</td>\n      <td>35.71</td>\n      <td>6</td>\n      <td>214.26</td>\n      <td>1</td>\n    </tr>\n    <tr>\n      <th>1</th>\n      <td>30_CULCHETH_5255</td>\n      <td>30</td>\n      <td>5255</td>\n      <td>TGI Fridays Ultimte Mudslide</td>\n      <td>1.75L</td>\n      <td>4466</td>\n      <td>AMERICAN VINTAGE BEVERAGE</td>\n      <td>8137</td>\n      <td>2023-12-22</td>\n      <td>2024-01-01</td>\n      <td>2024-01-07</td>\n      <td>2024-02-21</td>\n      <td>9.35</td>\n      <td>4</td>\n      <td>37.40</td>\n      <td>1</td>\n    </tr>\n    <tr>\n      <th>2</th>\n      <td>34_PITMERDEN_5215</td>\n      <td>34</td>\n      <td>5215</td>\n      <td>TGI Fridays Long Island Iced</td>\n      <td>1.75L</td>\n      <td>4466</td>\n      <td>AMERICAN VINTAGE BEVERAGE</td>\n      <td>8137</td>\n      <td>2023-12-22</td>\n      <td>2024-01-02</td>\n      <td>2024-01-07</td>\n      <td>2024-02-21</td>\n      <td>9.41</td>\n      <td>5</td>\n      <td>47.05</td>\n      <td>1</td>\n    </tr>\n    <tr>\n      <th>3</th>\n      <td>1_HARDERSFIELD_5255</td>\n      <td>1</td>\n      <td>5255</td>\n      <td>TGI Fridays Ultimte Mudslide</td>\n      <td>1.75L</td>\n      <td>4466</td>\n      <td>AMERICAN VINTAGE BEVERAGE</td>\n      <td>8137</td>\n      <td>2023-12-22</td>\n      <td>2024-01-01</td>\n      <td>2024-01-07</td>\n      <td>2024-02-21</td>\n      <td>9.35</td>\n      <td>6</td>\n      <td>56.10</td>\n      <td>1</td>\n    </tr>\n    <tr>\n      <th>4</th>\n      <td>76_DONCASTER_2034</td>\n      <td>76</td>\n      <td>2034</td>\n      <td>Glendalough Double Barrel</td>\n      <td>750mL</td>\n      <td>388</td>\n      <td>ATLANTIC IMPORTING COMPANY</td>\n      <td>8169</td>\n      <td>2023-12-24</td>\n      <td>2024-01-02</td>\n      <td>2024-01-09</td>\n      <td>2024-02-16</td>\n      <td>21.32</td>\n      <td>5</td>\n      <td>106.60</td>\n      <td>1</td>\n    </tr>\n  </tbody>\n</table>\n</div>",
                        "text/plain": "           InventoryId  Store  Brand                   Description   Size  \\\n0    69_MOUNTMEND_8412     69   8412     Tequila Ocho Plata Fresno  750mL   \n1     30_CULCHETH_5255     30   5255  TGI Fridays Ultimte Mudslide  1.75L   \n2    34_PITMERDEN_5215     34   5215  TGI Fridays Long Island Iced  1.75L   \n3  1_HARDERSFIELD_5255      1   5255  TGI Fridays Ultimte Mudslide  1.75L   \n4    76_DONCASTER_2034     76   2034     Glendalough Double Barrel  750mL   \n\n   VendorNumber                   VendorName  PONumber      PODate  \\\n0           105  ALTAMAR BRANDS LLC               8124  2023-12-21   \n1          4466  AMERICAN VINTAGE BEVERAGE        8137  2023-12-22   \n2          4466  AMERICAN VINTAGE BEVERAGE        8137  2023-12-22   \n3          4466  AMERICAN VINTAGE BEVERAGE        8137  2023-12-22   \n4           388  ATLANTIC IMPORTING COMPANY       8169  2023-12-24   \n\n  ReceivingDate InvoiceDate     PayDate  PurchasePrice  Quantity  Dollars  \\\n0    2024-01-02  2024-01-04  2024-02-16          35.71         6   214.26   \n1    2024-01-01  2024-01-07  2024-02-21           9.35         4    37.40   \n2    2024-01-02  2024-01-07  2024-02-21           9.41         5    47.05   \n3    2024-01-01  2024-01-07  2024-02-21           9.35         6    56.10   \n4    2024-01-02  2024-01-09  2024-02-16          21.32         5   106.60   \n\n   Classification  \n0               1  \n1               1  \n2               1  \n3               1  \n4               1  "
                    },
                    "metadata": {}
                },
                {
                    "output_type": "stream",
                    "name": "stdout",
                    "text": "-------------------------------------------------- purchase_prices --------------------------------------------------\nCount of records: 12261\n"
                },
                {
                    "output_type": "display_data",
                    "data": {
                        "text/html": "<div>\n<style scoped>\n    .dataframe tbody tr th:only-of-type {\n        vertical-align: middle;\n    }\n\n    .dataframe tbody tr th {\n        vertical-align: top;\n    }\n\n    .dataframe thead th {\n        text-align: right;\n    }\n</style>\n<table border=\"1\" class=\"dataframe\">\n  <thead>\n    <tr style=\"text-align: right;\">\n      <th></th>\n      <th>Brand</th>\n      <th>Description</th>\n      <th>Price</th>\n      <th>Size</th>\n      <th>Volume</th>\n      <th>Classification</th>\n      <th>PurchasePrice</th>\n      <th>VendorNumber</th>\n      <th>VendorName</th>\n    </tr>\n  </thead>\n  <tbody>\n    <tr>\n      <th>0</th>\n      <td>58</td>\n      <td>Gekkeikan Black &amp; Gold Sake</td>\n      <td>12.99</td>\n      <td>750mL</td>\n      <td>750</td>\n      <td>1</td>\n      <td>9.28</td>\n      <td>8320</td>\n      <td>SHAW ROSS INT L IMP LTD</td>\n    </tr>\n    <tr>\n      <th>1</th>\n      <td>62</td>\n      <td>Herradura Silver Tequila</td>\n      <td>36.99</td>\n      <td>750mL</td>\n      <td>750</td>\n      <td>1</td>\n      <td>28.67</td>\n      <td>1128</td>\n      <td>BROWN-FORMAN CORP</td>\n    </tr>\n    <tr>\n      <th>2</th>\n      <td>63</td>\n      <td>Herradura Reposado Tequila</td>\n      <td>38.99</td>\n      <td>750mL</td>\n      <td>750</td>\n      <td>1</td>\n      <td>30.46</td>\n      <td>1128</td>\n      <td>BROWN-FORMAN CORP</td>\n    </tr>\n    <tr>\n      <th>3</th>\n      <td>72</td>\n      <td>No. 3 London Dry Gin</td>\n      <td>34.99</td>\n      <td>750mL</td>\n      <td>750</td>\n      <td>1</td>\n      <td>26.11</td>\n      <td>9165</td>\n      <td>ULTRA BEVERAGE COMPANY LLP</td>\n    </tr>\n    <tr>\n      <th>4</th>\n      <td>75</td>\n      <td>Three Olives Tomato Vodka</td>\n      <td>14.99</td>\n      <td>750mL</td>\n      <td>750</td>\n      <td>1</td>\n      <td>10.94</td>\n      <td>7245</td>\n      <td>PROXIMO SPIRITS INC.</td>\n    </tr>\n  </tbody>\n</table>\n</div>",
                        "text/plain": "   Brand                  Description  Price   Size Volume  Classification  \\\n0     58  Gekkeikan Black & Gold Sake  12.99  750mL    750               1   \n1     62     Herradura Silver Tequila  36.99  750mL    750               1   \n2     63   Herradura Reposado Tequila  38.99  750mL    750               1   \n3     72         No. 3 London Dry Gin  34.99  750mL    750               1   \n4     75    Three Olives Tomato Vodka  14.99  750mL    750               1   \n\n   PurchasePrice  VendorNumber                   VendorName  \n0           9.28          8320  SHAW ROSS INT L IMP LTD      \n1          28.67          1128  BROWN-FORMAN CORP            \n2          30.46          1128  BROWN-FORMAN CORP            \n3          26.11          9165  ULTRA BEVERAGE COMPANY LLP   \n4          10.94          7245  PROXIMO SPIRITS INC.         "
                    },
                    "metadata": {}
                },
                {
                    "output_type": "stream",
                    "name": "stdout",
                    "text": "-------------------------------------------------- sales --------------------------------------------------\nCount of records: 12825363\n"
                },
                {
                    "output_type": "display_data",
                    "data": {
                        "text/html": "<div>\n<style scoped>\n    .dataframe tbody tr th:only-of-type {\n        vertical-align: middle;\n    }\n\n    .dataframe tbody tr th {\n        vertical-align: top;\n    }\n\n    .dataframe thead th {\n        text-align: right;\n    }\n</style>\n<table border=\"1\" class=\"dataframe\">\n  <thead>\n    <tr style=\"text-align: right;\">\n      <th></th>\n      <th>InventoryId</th>\n      <th>Store</th>\n      <th>Brand</th>\n      <th>Description</th>\n      <th>Size</th>\n      <th>SalesQuantity</th>\n      <th>SalesDollars</th>\n      <th>SalesPrice</th>\n      <th>SalesDate</th>\n      <th>Volume</th>\n      <th>Classification</th>\n      <th>ExciseTax</th>\n      <th>VendorNo</th>\n      <th>VendorName</th>\n    </tr>\n  </thead>\n  <tbody>\n    <tr>\n      <th>0</th>\n      <td>1_HARDERSFIELD_1004</td>\n      <td>1</td>\n      <td>1004</td>\n      <td>Jim Beam w/2 Rocks Glasses</td>\n      <td>750mL</td>\n      <td>1</td>\n      <td>16.49</td>\n      <td>16.49</td>\n      <td>2024-01-01</td>\n      <td>750.0</td>\n      <td>1</td>\n      <td>0.79</td>\n      <td>12546</td>\n      <td>JIM BEAM BRANDS COMPANY</td>\n    </tr>\n    <tr>\n      <th>1</th>\n      <td>1_HARDERSFIELD_1004</td>\n      <td>1</td>\n      <td>1004</td>\n      <td>Jim Beam w/2 Rocks Glasses</td>\n      <td>750mL</td>\n      <td>2</td>\n      <td>32.98</td>\n      <td>16.49</td>\n      <td>2024-01-02</td>\n      <td>750.0</td>\n      <td>1</td>\n      <td>1.57</td>\n      <td>12546</td>\n      <td>JIM BEAM BRANDS COMPANY</td>\n    </tr>\n    <tr>\n      <th>2</th>\n      <td>1_HARDERSFIELD_1004</td>\n      <td>1</td>\n      <td>1004</td>\n      <td>Jim Beam w/2 Rocks Glasses</td>\n      <td>750mL</td>\n      <td>1</td>\n      <td>16.49</td>\n      <td>16.49</td>\n      <td>2024-01-03</td>\n      <td>750.0</td>\n      <td>1</td>\n      <td>0.79</td>\n      <td>12546</td>\n      <td>JIM BEAM BRANDS COMPANY</td>\n    </tr>\n    <tr>\n      <th>3</th>\n      <td>1_HARDERSFIELD_1004</td>\n      <td>1</td>\n      <td>1004</td>\n      <td>Jim Beam w/2 Rocks Glasses</td>\n      <td>750mL</td>\n      <td>1</td>\n      <td>14.49</td>\n      <td>14.49</td>\n      <td>2024-01-08</td>\n      <td>750.0</td>\n      <td>1</td>\n      <td>0.79</td>\n      <td>12546</td>\n      <td>JIM BEAM BRANDS COMPANY</td>\n    </tr>\n    <tr>\n      <th>4</th>\n      <td>1_HARDERSFIELD_1005</td>\n      <td>1</td>\n      <td>1005</td>\n      <td>Maker's Mark Combo Pack</td>\n      <td>375mL 2 Pk</td>\n      <td>2</td>\n      <td>69.98</td>\n      <td>34.99</td>\n      <td>2024-01-09</td>\n      <td>375.0</td>\n      <td>1</td>\n      <td>0.79</td>\n      <td>12546</td>\n      <td>JIM BEAM BRANDS COMPANY</td>\n    </tr>\n  </tbody>\n</table>\n</div>",
                        "text/plain": "           InventoryId  Store  Brand                 Description        Size  \\\n0  1_HARDERSFIELD_1004      1   1004  Jim Beam w/2 Rocks Glasses       750mL   \n1  1_HARDERSFIELD_1004      1   1004  Jim Beam w/2 Rocks Glasses       750mL   \n2  1_HARDERSFIELD_1004      1   1004  Jim Beam w/2 Rocks Glasses       750mL   \n3  1_HARDERSFIELD_1004      1   1004  Jim Beam w/2 Rocks Glasses       750mL   \n4  1_HARDERSFIELD_1005      1   1005     Maker's Mark Combo Pack  375mL 2 Pk   \n\n   SalesQuantity  SalesDollars  SalesPrice   SalesDate  Volume  \\\n0              1         16.49       16.49  2024-01-01   750.0   \n1              2         32.98       16.49  2024-01-02   750.0   \n2              1         16.49       16.49  2024-01-03   750.0   \n3              1         14.49       14.49  2024-01-08   750.0   \n4              2         69.98       34.99  2024-01-09   375.0   \n\n   Classification  ExciseTax  VendorNo                   VendorName  \n0               1       0.79     12546  JIM BEAM BRANDS COMPANY      \n1               1       1.57     12546  JIM BEAM BRANDS COMPANY      \n2               1       0.79     12546  JIM BEAM BRANDS COMPANY      \n3               1       0.79     12546  JIM BEAM BRANDS COMPANY      \n4               1       0.79     12546  JIM BEAM BRANDS COMPANY      "
                    },
                    "metadata": {}
                },
                {
                    "output_type": "stream",
                    "name": "stdout",
                    "text": "-------------------------------------------------- vendor_invoice --------------------------------------------------\nCount of records: 5543\n"
                },
                {
                    "output_type": "display_data",
                    "data": {
                        "text/html": "<div>\n<style scoped>\n    .dataframe tbody tr th:only-of-type {\n        vertical-align: middle;\n    }\n\n    .dataframe tbody tr th {\n        vertical-align: top;\n    }\n\n    .dataframe thead th {\n        text-align: right;\n    }\n</style>\n<table border=\"1\" class=\"dataframe\">\n  <thead>\n    <tr style=\"text-align: right;\">\n      <th></th>\n      <th>VendorNumber</th>\n      <th>VendorName</th>\n      <th>InvoiceDate</th>\n      <th>PONumber</th>\n      <th>PODate</th>\n      <th>PayDate</th>\n      <th>Quantity</th>\n      <th>Dollars</th>\n      <th>Freight</th>\n      <th>Approval</th>\n    </tr>\n  </thead>\n  <tbody>\n    <tr>\n      <th>0</th>\n      <td>105</td>\n      <td>ALTAMAR BRANDS LLC</td>\n      <td>2024-01-04</td>\n      <td>8124</td>\n      <td>2023-12-21</td>\n      <td>2024-02-16</td>\n      <td>6</td>\n      <td>214.26</td>\n      <td>3.47</td>\n      <td>None</td>\n    </tr>\n    <tr>\n      <th>1</th>\n      <td>4466</td>\n      <td>AMERICAN VINTAGE BEVERAGE</td>\n      <td>2024-01-07</td>\n      <td>8137</td>\n      <td>2023-12-22</td>\n      <td>2024-02-21</td>\n      <td>15</td>\n      <td>140.55</td>\n      <td>8.57</td>\n      <td>None</td>\n    </tr>\n    <tr>\n      <th>2</th>\n      <td>388</td>\n      <td>ATLANTIC IMPORTING COMPANY</td>\n      <td>2024-01-09</td>\n      <td>8169</td>\n      <td>2023-12-24</td>\n      <td>2024-02-16</td>\n      <td>5</td>\n      <td>106.60</td>\n      <td>4.61</td>\n      <td>None</td>\n    </tr>\n    <tr>\n      <th>3</th>\n      <td>480</td>\n      <td>BACARDI USA INC</td>\n      <td>2024-01-12</td>\n      <td>8106</td>\n      <td>2023-12-20</td>\n      <td>2024-02-05</td>\n      <td>10100</td>\n      <td>137483.78</td>\n      <td>2935.20</td>\n      <td>None</td>\n    </tr>\n    <tr>\n      <th>4</th>\n      <td>516</td>\n      <td>BANFI PRODUCTS CORP</td>\n      <td>2024-01-07</td>\n      <td>8170</td>\n      <td>2023-12-24</td>\n      <td>2024-02-12</td>\n      <td>1935</td>\n      <td>15527.25</td>\n      <td>429.20</td>\n      <td>None</td>\n    </tr>\n  </tbody>\n</table>\n</div>",
                        "text/plain": "   VendorNumber                   VendorName InvoiceDate  PONumber  \\\n0           105  ALTAMAR BRANDS LLC           2024-01-04      8124   \n1          4466  AMERICAN VINTAGE BEVERAGE    2024-01-07      8137   \n2           388  ATLANTIC IMPORTING COMPANY   2024-01-09      8169   \n3           480  BACARDI USA INC              2024-01-12      8106   \n4           516  BANFI PRODUCTS CORP          2024-01-07      8170   \n\n       PODate     PayDate  Quantity    Dollars  Freight Approval  \n0  2023-12-21  2024-02-16         6     214.26     3.47     None  \n1  2023-12-22  2024-02-21        15     140.55     8.57     None  \n2  2023-12-24  2024-02-16         5     106.60     4.61     None  \n3  2023-12-20  2024-02-05     10100  137483.78  2935.20     None  \n4  2023-12-24  2024-02-12      1935   15527.25   429.20     None  "
                    },
                    "metadata": {}
                },
                {
                    "output_type": "stream",
                    "name": "stdout",
                    "text": "-------------------------------------------------- summary_table --------------------------------------------------\nCount of records: 12489\n"
                },
                {
                    "output_type": "display_data",
                    "data": {
                        "text/html": "<div>\n<style scoped>\n    .dataframe tbody tr th:only-of-type {\n        vertical-align: middle;\n    }\n\n    .dataframe tbody tr th {\n        vertical-align: top;\n    }\n\n    .dataframe thead th {\n        text-align: right;\n    }\n</style>\n<table border=\"1\" class=\"dataframe\">\n  <thead>\n    <tr style=\"text-align: right;\">\n      <th></th>\n      <th>VendorNumber</th>\n      <th>VendorName</th>\n      <th>Brand</th>\n      <th>Description</th>\n      <th>PurchasePrice</th>\n      <th>ActualPrice</th>\n      <th>Volume</th>\n      <th>TotalPurchaseQuantity</th>\n      <th>TotalPurchaseDollars</th>\n      <th>TotalSalesQuantity</th>\n      <th>TotalSalesDollars</th>\n      <th>TotalSalesPrice</th>\n      <th>TotalExciseTax</th>\n      <th>FreightCost</th>\n      <th>GrossProfit</th>\n      <th>ProfitMargin</th>\n      <th>StockTurnover</th>\n      <th>SalestoPurchaseRatio</th>\n    </tr>\n  </thead>\n  <tbody>\n    <tr>\n      <th>0</th>\n      <td>1128</td>\n      <td>BROWN-FORMAN CORP</td>\n      <td>1233</td>\n      <td>Jack Daniels No 7 Black</td>\n      <td>26.27</td>\n      <td>36.99</td>\n      <td>1750.0</td>\n      <td>145080</td>\n      <td>3811251.60</td>\n      <td>142049.0</td>\n      <td>5101919.51</td>\n      <td>672819.31</td>\n      <td>260999.20</td>\n      <td>68601.68</td>\n      <td>1290667.91</td>\n      <td>25.297693</td>\n      <td>0.979108</td>\n      <td>1.338647</td>\n    </tr>\n    <tr>\n      <th>1</th>\n      <td>4425</td>\n      <td>MARTIGNETTI COMPANIES</td>\n      <td>3405</td>\n      <td>Tito's Handmade Vodka</td>\n      <td>23.19</td>\n      <td>28.99</td>\n      <td>1750.0</td>\n      <td>164038</td>\n      <td>3804041.22</td>\n      <td>160247.0</td>\n      <td>4819073.49</td>\n      <td>561512.37</td>\n      <td>294438.66</td>\n      <td>209.32</td>\n      <td>1015032.27</td>\n      <td>21.062810</td>\n      <td>0.976890</td>\n      <td>1.266830</td>\n    </tr>\n    <tr>\n      <th>2</th>\n      <td>4425</td>\n      <td>MARTIGNETTI COMPANIES</td>\n      <td>3405</td>\n      <td>Tito's Handmade Vodka</td>\n      <td>23.19</td>\n      <td>28.99</td>\n      <td>1750.0</td>\n      <td>164038</td>\n      <td>3804041.22</td>\n      <td>160247.0</td>\n      <td>4819073.49</td>\n      <td>561512.37</td>\n      <td>294438.66</td>\n      <td>144719.92</td>\n      <td>1015032.27</td>\n      <td>21.062810</td>\n      <td>0.976890</td>\n      <td>1.266830</td>\n    </tr>\n    <tr>\n      <th>3</th>\n      <td>17035</td>\n      <td>PERNOD RICARD USA</td>\n      <td>8068</td>\n      <td>Absolut 80 Proof</td>\n      <td>18.24</td>\n      <td>24.99</td>\n      <td>1750.0</td>\n      <td>187407</td>\n      <td>3418303.68</td>\n      <td>187140.0</td>\n      <td>4538120.60</td>\n      <td>461140.15</td>\n      <td>343854.07</td>\n      <td>123780.22</td>\n      <td>1119816.92</td>\n      <td>24.675786</td>\n      <td>0.998575</td>\n      <td>1.327594</td>\n    </tr>\n    <tr>\n      <th>4</th>\n      <td>3960</td>\n      <td>DIAGEO NORTH AMERICA INC</td>\n      <td>4261</td>\n      <td>Capt Morgan Spiced Rum</td>\n      <td>16.17</td>\n      <td>22.99</td>\n      <td>1750.0</td>\n      <td>201682</td>\n      <td>3261197.94</td>\n      <td>200412.0</td>\n      <td>4475972.88</td>\n      <td>420050.01</td>\n      <td>368242.80</td>\n      <td>257032.07</td>\n      <td>1214774.94</td>\n      <td>27.139908</td>\n      <td>0.993703</td>\n      <td>1.372493</td>\n    </tr>\n  </tbody>\n</table>\n</div>",
                        "text/plain": "   VendorNumber                VendorName  Brand              Description  \\\n0          1128         BROWN-FORMAN CORP   1233  Jack Daniels No 7 Black   \n1          4425     MARTIGNETTI COMPANIES   3405    Tito's Handmade Vodka   \n2          4425     MARTIGNETTI COMPANIES   3405    Tito's Handmade Vodka   \n3         17035         PERNOD RICARD USA   8068         Absolut 80 Proof   \n4          3960  DIAGEO NORTH AMERICA INC   4261   Capt Morgan Spiced Rum   \n\n   PurchasePrice  ActualPrice  Volume  TotalPurchaseQuantity  \\\n0          26.27        36.99  1750.0                 145080   \n1          23.19        28.99  1750.0                 164038   \n2          23.19        28.99  1750.0                 164038   \n3          18.24        24.99  1750.0                 187407   \n4          16.17        22.99  1750.0                 201682   \n\n   TotalPurchaseDollars  TotalSalesQuantity  TotalSalesDollars  \\\n0            3811251.60            142049.0         5101919.51   \n1            3804041.22            160247.0         4819073.49   \n2            3804041.22            160247.0         4819073.49   \n3            3418303.68            187140.0         4538120.60   \n4            3261197.94            200412.0         4475972.88   \n\n   TotalSalesPrice  TotalExciseTax  FreightCost  GrossProfit  ProfitMargin  \\\n0        672819.31       260999.20     68601.68   1290667.91     25.297693   \n1        561512.37       294438.66       209.32   1015032.27     21.062810   \n2        561512.37       294438.66    144719.92   1015032.27     21.062810   \n3        461140.15       343854.07    123780.22   1119816.92     24.675786   \n4        420050.01       368242.80    257032.07   1214774.94     27.139908   \n\n   StockTurnover  SalestoPurchaseRatio  \n0       0.979108              1.338647  \n1       0.976890              1.266830  \n2       0.976890              1.266830  \n3       0.998575              1.327594  \n4       0.993703              1.372493  "
                    },
                    "metadata": {}
                }
            ],
            "execution_count": 5
        },
        {
            "cell_type": "code",
            "source": [
                "purchases = pd.read_sql_query(\"select * from purchases where VendorNumber = 4466\", conn)\n",
                "purchases"
            ],
            "metadata": {
                "azdata_cell_guid": "7eb73eb6-0b9d-4604-9989-1bb0d1ade68f",
                "language": "sql"
            },
            "outputs": [
                {
                    "output_type": "execute_result",
                    "execution_count": 6,
                    "data": {
                        "text/html": "<div>\n<style scoped>\n    .dataframe tbody tr th:only-of-type {\n        vertical-align: middle;\n    }\n\n    .dataframe tbody tr th {\n        vertical-align: top;\n    }\n\n    .dataframe thead th {\n        text-align: right;\n    }\n</style>\n<table border=\"1\" class=\"dataframe\">\n  <thead>\n    <tr style=\"text-align: right;\">\n      <th></th>\n      <th>InventoryId</th>\n      <th>Store</th>\n      <th>Brand</th>\n      <th>Description</th>\n      <th>Size</th>\n      <th>VendorNumber</th>\n      <th>VendorName</th>\n      <th>PONumber</th>\n      <th>PODate</th>\n      <th>ReceivingDate</th>\n      <th>InvoiceDate</th>\n      <th>PayDate</th>\n      <th>PurchasePrice</th>\n      <th>Quantity</th>\n      <th>Dollars</th>\n      <th>Classification</th>\n    </tr>\n  </thead>\n  <tbody>\n    <tr>\n      <th>0</th>\n      <td>30_CULCHETH_5255</td>\n      <td>30</td>\n      <td>5255</td>\n      <td>TGI Fridays Ultimte Mudslide</td>\n      <td>1.75L</td>\n      <td>4466</td>\n      <td>AMERICAN VINTAGE BEVERAGE</td>\n      <td>8137</td>\n      <td>2023-12-22</td>\n      <td>2024-01-01</td>\n      <td>2024-01-07</td>\n      <td>2024-02-21</td>\n      <td>9.35</td>\n      <td>4</td>\n      <td>37.40</td>\n      <td>1</td>\n    </tr>\n    <tr>\n      <th>1</th>\n      <td>34_PITMERDEN_5215</td>\n      <td>34</td>\n      <td>5215</td>\n      <td>TGI Fridays Long Island Iced</td>\n      <td>1.75L</td>\n      <td>4466</td>\n      <td>AMERICAN VINTAGE BEVERAGE</td>\n      <td>8137</td>\n      <td>2023-12-22</td>\n      <td>2024-01-02</td>\n      <td>2024-01-07</td>\n      <td>2024-02-21</td>\n      <td>9.41</td>\n      <td>5</td>\n      <td>47.05</td>\n      <td>1</td>\n    </tr>\n    <tr>\n      <th>2</th>\n      <td>1_HARDERSFIELD_5255</td>\n      <td>1</td>\n      <td>5255</td>\n      <td>TGI Fridays Ultimte Mudslide</td>\n      <td>1.75L</td>\n      <td>4466</td>\n      <td>AMERICAN VINTAGE BEVERAGE</td>\n      <td>8137</td>\n      <td>2023-12-22</td>\n      <td>2024-01-01</td>\n      <td>2024-01-07</td>\n      <td>2024-02-21</td>\n      <td>9.35</td>\n      <td>6</td>\n      <td>56.10</td>\n      <td>1</td>\n    </tr>\n    <tr>\n      <th>3</th>\n      <td>38_GOULCREST_5215</td>\n      <td>38</td>\n      <td>5215</td>\n      <td>TGI Fridays Long Island Iced</td>\n      <td>1.75L</td>\n      <td>4466</td>\n      <td>AMERICAN VINTAGE BEVERAGE</td>\n      <td>8207</td>\n      <td>2023-12-27</td>\n      <td>2024-01-07</td>\n      <td>2024-01-19</td>\n      <td>2024-02-26</td>\n      <td>9.41</td>\n      <td>6</td>\n      <td>56.46</td>\n      <td>1</td>\n    </tr>\n    <tr>\n      <th>4</th>\n      <td>59_CLAETHORPES_5215</td>\n      <td>59</td>\n      <td>5215</td>\n      <td>TGI Fridays Long Island Iced</td>\n      <td>1.75L</td>\n      <td>4466</td>\n      <td>AMERICAN VINTAGE BEVERAGE</td>\n      <td>8207</td>\n      <td>2023-12-27</td>\n      <td>2024-01-05</td>\n      <td>2024-01-19</td>\n      <td>2024-02-26</td>\n      <td>9.41</td>\n      <td>6</td>\n      <td>56.46</td>\n      <td>1</td>\n    </tr>\n    <tr>\n      <th>...</th>\n      <td>...</td>\n      <td>...</td>\n      <td>...</td>\n      <td>...</td>\n      <td>...</td>\n      <td>...</td>\n      <td>...</td>\n      <td>...</td>\n      <td>...</td>\n      <td>...</td>\n      <td>...</td>\n      <td>...</td>\n      <td>...</td>\n      <td>...</td>\n      <td>...</td>\n      <td>...</td>\n    </tr>\n    <tr>\n      <th>2187</th>\n      <td>81_PEMBROKE_5215</td>\n      <td>81</td>\n      <td>5215</td>\n      <td>TGI Fridays Long Island Iced</td>\n      <td>1.75L</td>\n      <td>4466</td>\n      <td>AMERICAN VINTAGE BEVERAGE</td>\n      <td>13595</td>\n      <td>2024-12-20</td>\n      <td>2024-12-29</td>\n      <td>2025-01-04</td>\n      <td>2025-02-10</td>\n      <td>9.41</td>\n      <td>6</td>\n      <td>56.46</td>\n      <td>1</td>\n    </tr>\n    <tr>\n      <th>2188</th>\n      <td>62_KILMARNOCK_5255</td>\n      <td>62</td>\n      <td>5255</td>\n      <td>TGI Fridays Ultimte Mudslide</td>\n      <td>1.75L</td>\n      <td>4466</td>\n      <td>AMERICAN VINTAGE BEVERAGE</td>\n      <td>13595</td>\n      <td>2024-12-20</td>\n      <td>2024-12-28</td>\n      <td>2025-01-04</td>\n      <td>2025-02-10</td>\n      <td>9.35</td>\n      <td>5</td>\n      <td>46.75</td>\n      <td>1</td>\n    </tr>\n    <tr>\n      <th>2189</th>\n      <td>34_PITMERDEN_5215</td>\n      <td>34</td>\n      <td>5215</td>\n      <td>TGI Fridays Long Island Iced</td>\n      <td>1.75L</td>\n      <td>4466</td>\n      <td>AMERICAN VINTAGE BEVERAGE</td>\n      <td>13595</td>\n      <td>2024-12-20</td>\n      <td>2024-12-28</td>\n      <td>2025-01-04</td>\n      <td>2025-02-10</td>\n      <td>9.41</td>\n      <td>5</td>\n      <td>47.05</td>\n      <td>1</td>\n    </tr>\n    <tr>\n      <th>2190</th>\n      <td>6_GOULCREST_5215</td>\n      <td>6</td>\n      <td>5215</td>\n      <td>TGI Fridays Long Island Iced</td>\n      <td>1.75L</td>\n      <td>4466</td>\n      <td>AMERICAN VINTAGE BEVERAGE</td>\n      <td>13595</td>\n      <td>2024-12-20</td>\n      <td>2024-12-31</td>\n      <td>2025-01-04</td>\n      <td>2025-02-10</td>\n      <td>9.41</td>\n      <td>6</td>\n      <td>56.46</td>\n      <td>1</td>\n    </tr>\n    <tr>\n      <th>2191</th>\n      <td>35_HALIVAARA_5255</td>\n      <td>35</td>\n      <td>5255</td>\n      <td>TGI Fridays Ultimte Mudslide</td>\n      <td>1.75L</td>\n      <td>4466</td>\n      <td>AMERICAN VINTAGE BEVERAGE</td>\n      <td>13595</td>\n      <td>2024-12-20</td>\n      <td>2024-12-27</td>\n      <td>2025-01-04</td>\n      <td>2025-02-10</td>\n      <td>9.35</td>\n      <td>5</td>\n      <td>46.75</td>\n      <td>1</td>\n    </tr>\n  </tbody>\n</table>\n<p>2192 rows × 16 columns</p>\n</div>",
                        "text/plain": "              InventoryId  Store  Brand                   Description   Size  \\\n0        30_CULCHETH_5255     30   5255  TGI Fridays Ultimte Mudslide  1.75L   \n1       34_PITMERDEN_5215     34   5215  TGI Fridays Long Island Iced  1.75L   \n2     1_HARDERSFIELD_5255      1   5255  TGI Fridays Ultimte Mudslide  1.75L   \n3       38_GOULCREST_5215     38   5215  TGI Fridays Long Island Iced  1.75L   \n4     59_CLAETHORPES_5215     59   5215  TGI Fridays Long Island Iced  1.75L   \n...                   ...    ...    ...                           ...    ...   \n2187     81_PEMBROKE_5215     81   5215  TGI Fridays Long Island Iced  1.75L   \n2188   62_KILMARNOCK_5255     62   5255  TGI Fridays Ultimte Mudslide  1.75L   \n2189    34_PITMERDEN_5215     34   5215  TGI Fridays Long Island Iced  1.75L   \n2190     6_GOULCREST_5215      6   5215  TGI Fridays Long Island Iced  1.75L   \n2191    35_HALIVAARA_5255     35   5255  TGI Fridays Ultimte Mudslide  1.75L   \n\n      VendorNumber                   VendorName  PONumber      PODate  \\\n0             4466  AMERICAN VINTAGE BEVERAGE        8137  2023-12-22   \n1             4466  AMERICAN VINTAGE BEVERAGE        8137  2023-12-22   \n2             4466  AMERICAN VINTAGE BEVERAGE        8137  2023-12-22   \n3             4466  AMERICAN VINTAGE BEVERAGE        8207  2023-12-27   \n4             4466  AMERICAN VINTAGE BEVERAGE        8207  2023-12-27   \n...            ...                          ...       ...         ...   \n2187          4466  AMERICAN VINTAGE BEVERAGE       13595  2024-12-20   \n2188          4466  AMERICAN VINTAGE BEVERAGE       13595  2024-12-20   \n2189          4466  AMERICAN VINTAGE BEVERAGE       13595  2024-12-20   \n2190          4466  AMERICAN VINTAGE BEVERAGE       13595  2024-12-20   \n2191          4466  AMERICAN VINTAGE BEVERAGE       13595  2024-12-20   \n\n     ReceivingDate InvoiceDate     PayDate  PurchasePrice  Quantity  Dollars  \\\n0       2024-01-01  2024-01-07  2024-02-21           9.35         4    37.40   \n1       2024-01-02  2024-01-07  2024-02-21           9.41         5    47.05   \n2       2024-01-01  2024-01-07  2024-02-21           9.35         6    56.10   \n3       2024-01-07  2024-01-19  2024-02-26           9.41         6    56.46   \n4       2024-01-05  2024-01-19  2024-02-26           9.41         6    56.46   \n...            ...         ...         ...            ...       ...      ...   \n2187    2024-12-29  2025-01-04  2025-02-10           9.41         6    56.46   \n2188    2024-12-28  2025-01-04  2025-02-10           9.35         5    46.75   \n2189    2024-12-28  2025-01-04  2025-02-10           9.41         5    47.05   \n2190    2024-12-31  2025-01-04  2025-02-10           9.41         6    56.46   \n2191    2024-12-27  2025-01-04  2025-02-10           9.35         5    46.75   \n\n      Classification  \n0                  1  \n1                  1  \n2                  1  \n3                  1  \n4                  1  \n...              ...  \n2187               1  \n2188               1  \n2189               1  \n2190               1  \n2191               1  \n\n[2192 rows x 16 columns]"
                    },
                    "metadata": {}
                }
            ],
            "execution_count": 6
        },
        {
            "cell_type": "code",
            "source": [
                "purchase_prices = pd.read_sql_query(\"select * from purchase_prices where VendorNumber = 4466\", conn)\n",
                "purchase_prices"
            ],
            "metadata": {
                "azdata_cell_guid": "5b61446e-1fea-40ed-81dc-bb976e208dab",
                "language": "sql"
            },
            "outputs": [
                {
                    "output_type": "execute_result",
                    "execution_count": 7,
                    "data": {
                        "text/html": "<div>\n<style scoped>\n    .dataframe tbody tr th:only-of-type {\n        vertical-align: middle;\n    }\n\n    .dataframe tbody tr th {\n        vertical-align: top;\n    }\n\n    .dataframe thead th {\n        text-align: right;\n    }\n</style>\n<table border=\"1\" class=\"dataframe\">\n  <thead>\n    <tr style=\"text-align: right;\">\n      <th></th>\n      <th>Brand</th>\n      <th>Description</th>\n      <th>Price</th>\n      <th>Size</th>\n      <th>Volume</th>\n      <th>Classification</th>\n      <th>PurchasePrice</th>\n      <th>VendorNumber</th>\n      <th>VendorName</th>\n    </tr>\n  </thead>\n  <tbody>\n    <tr>\n      <th>0</th>\n      <td>5215</td>\n      <td>TGI Fridays Long Island Iced</td>\n      <td>12.99</td>\n      <td>1750mL</td>\n      <td>1750</td>\n      <td>1</td>\n      <td>9.41</td>\n      <td>4466</td>\n      <td>AMERICAN VINTAGE BEVERAGE</td>\n    </tr>\n    <tr>\n      <th>1</th>\n      <td>5255</td>\n      <td>TGI Fridays Ultimte Mudslide</td>\n      <td>12.99</td>\n      <td>1750mL</td>\n      <td>1750</td>\n      <td>1</td>\n      <td>9.35</td>\n      <td>4466</td>\n      <td>AMERICAN VINTAGE BEVERAGE</td>\n    </tr>\n    <tr>\n      <th>2</th>\n      <td>3140</td>\n      <td>TGI Fridays Orange Dream</td>\n      <td>14.99</td>\n      <td>1750mL</td>\n      <td>1750</td>\n      <td>1</td>\n      <td>11.19</td>\n      <td>4466</td>\n      <td>AMERICAN VINTAGE BEVERAGE</td>\n    </tr>\n  </tbody>\n</table>\n</div>",
                        "text/plain": "   Brand                   Description  Price    Size Volume  Classification  \\\n0   5215  TGI Fridays Long Island Iced  12.99  1750mL   1750               1   \n1   5255  TGI Fridays Ultimte Mudslide  12.99  1750mL   1750               1   \n2   3140      TGI Fridays Orange Dream  14.99  1750mL   1750               1   \n\n   PurchasePrice  VendorNumber                   VendorName  \n0           9.41          4466  AMERICAN VINTAGE BEVERAGE    \n1           9.35          4466  AMERICAN VINTAGE BEVERAGE    \n2          11.19          4466  AMERICAN VINTAGE BEVERAGE    "
                    },
                    "metadata": {}
                }
            ],
            "execution_count": 7
        },
        {
            "cell_type": "code",
            "source": [
                "vendor_invoice = pd.read_sql_query(\"select * from vendor_invoice where VendorNumber = 4466\", conn)\n",
                "vendor_invoice"
            ],
            "metadata": {
                "azdata_cell_guid": "6f6edbe9-e1b8-4d87-8811-bbf80ebd8fbe",
                "language": "sql"
            },
            "outputs": [
                {
                    "output_type": "execute_result",
                    "execution_count": 8,
                    "data": {
                        "text/html": "<div>\n<style scoped>\n    .dataframe tbody tr th:only-of-type {\n        vertical-align: middle;\n    }\n\n    .dataframe tbody tr th {\n        vertical-align: top;\n    }\n\n    .dataframe thead th {\n        text-align: right;\n    }\n</style>\n<table border=\"1\" class=\"dataframe\">\n  <thead>\n    <tr style=\"text-align: right;\">\n      <th></th>\n      <th>VendorNumber</th>\n      <th>VendorName</th>\n      <th>InvoiceDate</th>\n      <th>PONumber</th>\n      <th>PODate</th>\n      <th>PayDate</th>\n      <th>Quantity</th>\n      <th>Dollars</th>\n      <th>Freight</th>\n      <th>Approval</th>\n    </tr>\n  </thead>\n  <tbody>\n    <tr>\n      <th>0</th>\n      <td>4466</td>\n      <td>AMERICAN VINTAGE BEVERAGE</td>\n      <td>2024-01-07</td>\n      <td>8137</td>\n      <td>2023-12-22</td>\n      <td>2024-02-21</td>\n      <td>15</td>\n      <td>140.55</td>\n      <td>8.57</td>\n      <td>None</td>\n    </tr>\n    <tr>\n      <th>1</th>\n      <td>4466</td>\n      <td>AMERICAN VINTAGE BEVERAGE</td>\n      <td>2024-01-19</td>\n      <td>8207</td>\n      <td>2023-12-27</td>\n      <td>2024-02-26</td>\n      <td>335</td>\n      <td>3142.33</td>\n      <td>16.97</td>\n      <td>None</td>\n    </tr>\n    <tr>\n      <th>2</th>\n      <td>4466</td>\n      <td>AMERICAN VINTAGE BEVERAGE</td>\n      <td>2024-01-18</td>\n      <td>8307</td>\n      <td>2024-01-03</td>\n      <td>2024-02-18</td>\n      <td>41</td>\n      <td>383.35</td>\n      <td>1.99</td>\n      <td>None</td>\n    </tr>\n    <tr>\n      <th>3</th>\n      <td>4466</td>\n      <td>AMERICAN VINTAGE BEVERAGE</td>\n      <td>2024-01-27</td>\n      <td>8469</td>\n      <td>2024-01-14</td>\n      <td>2024-03-11</td>\n      <td>72</td>\n      <td>673.20</td>\n      <td>3.30</td>\n      <td>None</td>\n    </tr>\n    <tr>\n      <th>4</th>\n      <td>4466</td>\n      <td>AMERICAN VINTAGE BEVERAGE</td>\n      <td>2024-02-04</td>\n      <td>8532</td>\n      <td>2024-01-19</td>\n      <td>2024-03-15</td>\n      <td>79</td>\n      <td>740.21</td>\n      <td>3.48</td>\n      <td>None</td>\n    </tr>\n    <tr>\n      <th>5</th>\n      <td>4466</td>\n      <td>AMERICAN VINTAGE BEVERAGE</td>\n      <td>2024-02-09</td>\n      <td>8604</td>\n      <td>2024-01-24</td>\n      <td>2024-03-15</td>\n      <td>347</td>\n      <td>3261.37</td>\n      <td>17.61</td>\n      <td>None</td>\n    </tr>\n    <tr>\n      <th>6</th>\n      <td>4466</td>\n      <td>AMERICAN VINTAGE BEVERAGE</td>\n      <td>2024-02-17</td>\n      <td>8793</td>\n      <td>2024-02-05</td>\n      <td>2024-04-02</td>\n      <td>72</td>\n      <td>675.36</td>\n      <td>3.17</td>\n      <td>None</td>\n    </tr>\n    <tr>\n      <th>7</th>\n      <td>4466</td>\n      <td>AMERICAN VINTAGE BEVERAGE</td>\n      <td>2024-03-01</td>\n      <td>8892</td>\n      <td>2024-02-12</td>\n      <td>2024-03-28</td>\n      <td>117</td>\n      <td>1096.05</td>\n      <td>5.15</td>\n      <td>None</td>\n    </tr>\n    <tr>\n      <th>8</th>\n      <td>4466</td>\n      <td>AMERICAN VINTAGE BEVERAGE</td>\n      <td>2024-03-07</td>\n      <td>8995</td>\n      <td>2024-02-19</td>\n      <td>2024-04-02</td>\n      <td>129</td>\n      <td>1209.27</td>\n      <td>5.44</td>\n      <td>None</td>\n    </tr>\n    <tr>\n      <th>9</th>\n      <td>4466</td>\n      <td>AMERICAN VINTAGE BEVERAGE</td>\n      <td>2024-03-12</td>\n      <td>9033</td>\n      <td>2024-02-22</td>\n      <td>2024-04-16</td>\n      <td>147</td>\n      <td>1377.87</td>\n      <td>6.61</td>\n      <td>None</td>\n    </tr>\n    <tr>\n      <th>10</th>\n      <td>4466</td>\n      <td>AMERICAN VINTAGE BEVERAGE</td>\n      <td>2024-03-16</td>\n      <td>9180</td>\n      <td>2024-03-03</td>\n      <td>2024-04-19</td>\n      <td>211</td>\n      <td>1979.33</td>\n      <td>9.50</td>\n      <td>None</td>\n    </tr>\n    <tr>\n      <th>11</th>\n      <td>4466</td>\n      <td>AMERICAN VINTAGE BEVERAGE</td>\n      <td>2024-03-23</td>\n      <td>9244</td>\n      <td>2024-03-08</td>\n      <td>2024-04-21</td>\n      <td>161</td>\n      <td>1510.69</td>\n      <td>6.95</td>\n      <td>None</td>\n    </tr>\n    <tr>\n      <th>12</th>\n      <td>4466</td>\n      <td>AMERICAN VINTAGE BEVERAGE</td>\n      <td>2024-03-31</td>\n      <td>9371</td>\n      <td>2024-03-17</td>\n      <td>2024-05-13</td>\n      <td>176</td>\n      <td>1649.20</td>\n      <td>8.91</td>\n      <td>None</td>\n    </tr>\n    <tr>\n      <th>13</th>\n      <td>4466</td>\n      <td>AMERICAN VINTAGE BEVERAGE</td>\n      <td>2024-04-09</td>\n      <td>9491</td>\n      <td>2024-03-24</td>\n      <td>2024-05-08</td>\n      <td>215</td>\n      <td>2016.43</td>\n      <td>10.08</td>\n      <td>None</td>\n    </tr>\n    <tr>\n      <th>14</th>\n      <td>4466</td>\n      <td>AMERICAN VINTAGE BEVERAGE</td>\n      <td>2024-04-17</td>\n      <td>9583</td>\n      <td>2024-03-31</td>\n      <td>2024-05-12</td>\n      <td>110</td>\n      <td>1035.10</td>\n      <td>5.69</td>\n      <td>None</td>\n    </tr>\n    <tr>\n      <th>15</th>\n      <td>4466</td>\n      <td>AMERICAN VINTAGE BEVERAGE</td>\n      <td>2024-04-20</td>\n      <td>9639</td>\n      <td>2024-04-04</td>\n      <td>2024-06-04</td>\n      <td>515</td>\n      <td>5323.01</td>\n      <td>25.02</td>\n      <td>None</td>\n    </tr>\n    <tr>\n      <th>16</th>\n      <td>4466</td>\n      <td>AMERICAN VINTAGE BEVERAGE</td>\n      <td>2024-04-29</td>\n      <td>9800</td>\n      <td>2024-04-15</td>\n      <td>2024-06-07</td>\n      <td>275</td>\n      <td>2775.01</td>\n      <td>13.60</td>\n      <td>None</td>\n    </tr>\n    <tr>\n      <th>17</th>\n      <td>4466</td>\n      <td>AMERICAN VINTAGE BEVERAGE</td>\n      <td>2024-05-09</td>\n      <td>9886</td>\n      <td>2024-04-21</td>\n      <td>2024-06-12</td>\n      <td>312</td>\n      <td>3050.86</td>\n      <td>13.73</td>\n      <td>None</td>\n    </tr>\n    <tr>\n      <th>18</th>\n      <td>4466</td>\n      <td>AMERICAN VINTAGE BEVERAGE</td>\n      <td>2024-05-14</td>\n      <td>9999</td>\n      <td>2024-04-29</td>\n      <td>2024-06-26</td>\n      <td>310</td>\n      <td>3117.82</td>\n      <td>14.97</td>\n      <td>None</td>\n    </tr>\n    <tr>\n      <th>19</th>\n      <td>4466</td>\n      <td>AMERICAN VINTAGE BEVERAGE</td>\n      <td>2024-05-16</td>\n      <td>10095</td>\n      <td>2024-05-06</td>\n      <td>2024-06-27</td>\n      <td>215</td>\n      <td>2123.01</td>\n      <td>11.46</td>\n      <td>None</td>\n    </tr>\n    <tr>\n      <th>20</th>\n      <td>4466</td>\n      <td>AMERICAN VINTAGE BEVERAGE</td>\n      <td>2024-05-28</td>\n      <td>10169</td>\n      <td>2024-05-11</td>\n      <td>2024-07-04</td>\n      <td>327</td>\n      <td>3298.55</td>\n      <td>15.83</td>\n      <td>None</td>\n    </tr>\n    <tr>\n      <th>21</th>\n      <td>4466</td>\n      <td>AMERICAN VINTAGE BEVERAGE</td>\n      <td>2024-06-04</td>\n      <td>10257</td>\n      <td>2024-05-17</td>\n      <td>2024-07-08</td>\n      <td>376</td>\n      <td>3708.18</td>\n      <td>20.39</td>\n      <td>None</td>\n    </tr>\n    <tr>\n      <th>22</th>\n      <td>4466</td>\n      <td>AMERICAN VINTAGE BEVERAGE</td>\n      <td>2024-06-12</td>\n      <td>10346</td>\n      <td>2024-05-23</td>\n      <td>2024-07-20</td>\n      <td>640</td>\n      <td>6458.38</td>\n      <td>29.71</td>\n      <td>None</td>\n    </tr>\n    <tr>\n      <th>23</th>\n      <td>4466</td>\n      <td>AMERICAN VINTAGE BEVERAGE</td>\n      <td>2024-06-17</td>\n      <td>10445</td>\n      <td>2024-05-30</td>\n      <td>2024-07-19</td>\n      <td>288</td>\n      <td>2937.56</td>\n      <td>15.86</td>\n      <td>None</td>\n    </tr>\n    <tr>\n      <th>24</th>\n      <td>4466</td>\n      <td>AMERICAN VINTAGE BEVERAGE</td>\n      <td>2024-06-22</td>\n      <td>10600</td>\n      <td>2024-06-09</td>\n      <td>2024-08-01</td>\n      <td>308</td>\n      <td>3213.28</td>\n      <td>17.03</td>\n      <td>None</td>\n    </tr>\n    <tr>\n      <th>25</th>\n      <td>4466</td>\n      <td>AMERICAN VINTAGE BEVERAGE</td>\n      <td>2024-06-29</td>\n      <td>10695</td>\n      <td>2024-06-16</td>\n      <td>2024-08-12</td>\n      <td>143</td>\n      <td>1585.75</td>\n      <td>8.09</td>\n      <td>None</td>\n    </tr>\n    <tr>\n      <th>26</th>\n      <td>4466</td>\n      <td>AMERICAN VINTAGE BEVERAGE</td>\n      <td>2024-07-09</td>\n      <td>10777</td>\n      <td>2024-06-22</td>\n      <td>2024-08-15</td>\n      <td>18</td>\n      <td>179.88</td>\n      <td>0.99</td>\n      <td>None</td>\n    </tr>\n    <tr>\n      <th>27</th>\n      <td>4466</td>\n      <td>AMERICAN VINTAGE BEVERAGE</td>\n      <td>2024-07-08</td>\n      <td>10836</td>\n      <td>2024-06-25</td>\n      <td>2024-08-14</td>\n      <td>8</td>\n      <td>85.96</td>\n      <td>0.43</td>\n      <td>None</td>\n    </tr>\n    <tr>\n      <th>28</th>\n      <td>4466</td>\n      <td>AMERICAN VINTAGE BEVERAGE</td>\n      <td>2024-07-11</td>\n      <td>10969</td>\n      <td>2024-06-29</td>\n      <td>2024-08-18</td>\n      <td>94</td>\n      <td>993.12</td>\n      <td>5.06</td>\n      <td>None</td>\n    </tr>\n    <tr>\n      <th>29</th>\n      <td>4466</td>\n      <td>AMERICAN VINTAGE BEVERAGE</td>\n      <td>2024-07-19</td>\n      <td>11085</td>\n      <td>2024-07-06</td>\n      <td>2024-09-04</td>\n      <td>601</td>\n      <td>5883.09</td>\n      <td>31.18</td>\n      <td>None</td>\n    </tr>\n    <tr>\n      <th>30</th>\n      <td>4466</td>\n      <td>AMERICAN VINTAGE BEVERAGE</td>\n      <td>2024-07-26</td>\n      <td>11187</td>\n      <td>2024-07-14</td>\n      <td>2024-08-26</td>\n      <td>1535</td>\n      <td>15406.69</td>\n      <td>77.03</td>\n      <td>None</td>\n    </tr>\n    <tr>\n      <th>31</th>\n      <td>4466</td>\n      <td>AMERICAN VINTAGE BEVERAGE</td>\n      <td>2024-08-03</td>\n      <td>11244</td>\n      <td>2024-07-18</td>\n      <td>2024-09-04</td>\n      <td>266</td>\n      <td>2888.22</td>\n      <td>15.31</td>\n      <td>None</td>\n    </tr>\n    <tr>\n      <th>32</th>\n      <td>4466</td>\n      <td>AMERICAN VINTAGE BEVERAGE</td>\n      <td>2024-08-11</td>\n      <td>11362</td>\n      <td>2024-07-26</td>\n      <td>2024-09-24</td>\n      <td>206</td>\n      <td>2171.64</td>\n      <td>11.08</td>\n      <td>None</td>\n    </tr>\n    <tr>\n      <th>33</th>\n      <td>4466</td>\n      <td>AMERICAN VINTAGE BEVERAGE</td>\n      <td>2024-08-18</td>\n      <td>11489</td>\n      <td>2024-08-04</td>\n      <td>2024-09-16</td>\n      <td>768</td>\n      <td>7292.98</td>\n      <td>37.92</td>\n      <td>None</td>\n    </tr>\n    <tr>\n      <th>34</th>\n      <td>4466</td>\n      <td>AMERICAN VINTAGE BEVERAGE</td>\n      <td>2024-08-24</td>\n      <td>11540</td>\n      <td>2024-08-08</td>\n      <td>2024-10-02</td>\n      <td>1207</td>\n      <td>12242.43</td>\n      <td>64.88</td>\n      <td>None</td>\n    </tr>\n    <tr>\n      <th>35</th>\n      <td>4466</td>\n      <td>AMERICAN VINTAGE BEVERAGE</td>\n      <td>2024-09-02</td>\n      <td>11716</td>\n      <td>2024-08-19</td>\n      <td>2024-09-29</td>\n      <td>433</td>\n      <td>4334.43</td>\n      <td>20.37</td>\n      <td>None</td>\n    </tr>\n    <tr>\n      <th>36</th>\n      <td>4466</td>\n      <td>AMERICAN VINTAGE BEVERAGE</td>\n      <td>2024-09-12</td>\n      <td>11771</td>\n      <td>2024-08-23</td>\n      <td>2024-10-11</td>\n      <td>370</td>\n      <td>3640.18</td>\n      <td>18.20</td>\n      <td>None</td>\n    </tr>\n    <tr>\n      <th>37</th>\n      <td>4466</td>\n      <td>AMERICAN VINTAGE BEVERAGE</td>\n      <td>2024-09-20</td>\n      <td>11901</td>\n      <td>2024-09-01</td>\n      <td>2024-10-30</td>\n      <td>358</td>\n      <td>3626.74</td>\n      <td>16.32</td>\n      <td>None</td>\n    </tr>\n    <tr>\n      <th>38</th>\n      <td>4466</td>\n      <td>AMERICAN VINTAGE BEVERAGE</td>\n      <td>2024-09-25</td>\n      <td>11993</td>\n      <td>2024-09-07</td>\n      <td>2024-10-23</td>\n      <td>233</td>\n      <td>2264.85</td>\n      <td>12.23</td>\n      <td>None</td>\n    </tr>\n    <tr>\n      <th>39</th>\n      <td>4466</td>\n      <td>AMERICAN VINTAGE BEVERAGE</td>\n      <td>2024-10-01</td>\n      <td>12125</td>\n      <td>2024-09-16</td>\n      <td>2024-11-07</td>\n      <td>284</td>\n      <td>2813.46</td>\n      <td>15.47</td>\n      <td>None</td>\n    </tr>\n    <tr>\n      <th>40</th>\n      <td>4466</td>\n      <td>AMERICAN VINTAGE BEVERAGE</td>\n      <td>2024-10-08</td>\n      <td>12235</td>\n      <td>2024-09-23</td>\n      <td>2024-11-20</td>\n      <td>258</td>\n      <td>2592.08</td>\n      <td>11.92</td>\n      <td>None</td>\n    </tr>\n    <tr>\n      <th>41</th>\n      <td>4466</td>\n      <td>AMERICAN VINTAGE BEVERAGE</td>\n      <td>2024-10-09</td>\n      <td>12253</td>\n      <td>2024-09-23</td>\n      <td>2024-11-14</td>\n      <td>1</td>\n      <td>11.19</td>\n      <td>0.05</td>\n      <td>None</td>\n    </tr>\n    <tr>\n      <th>42</th>\n      <td>4466</td>\n      <td>AMERICAN VINTAGE BEVERAGE</td>\n      <td>2024-10-12</td>\n      <td>12321</td>\n      <td>2024-09-26</td>\n      <td>2024-11-19</td>\n      <td>172</td>\n      <td>1685.98</td>\n      <td>7.59</td>\n      <td>None</td>\n    </tr>\n    <tr>\n      <th>43</th>\n      <td>4466</td>\n      <td>AMERICAN VINTAGE BEVERAGE</td>\n      <td>2024-10-20</td>\n      <td>12466</td>\n      <td>2024-10-05</td>\n      <td>2024-11-26</td>\n      <td>280</td>\n      <td>2798.60</td>\n      <td>14.55</td>\n      <td>None</td>\n    </tr>\n    <tr>\n      <th>44</th>\n      <td>4466</td>\n      <td>AMERICAN VINTAGE BEVERAGE</td>\n      <td>2024-10-27</td>\n      <td>12515</td>\n      <td>2024-10-09</td>\n      <td>2024-11-30</td>\n      <td>178</td>\n      <td>1763.28</td>\n      <td>8.64</td>\n      <td>None</td>\n    </tr>\n    <tr>\n      <th>45</th>\n      <td>4466</td>\n      <td>AMERICAN VINTAGE BEVERAGE</td>\n      <td>2024-11-07</td>\n      <td>12702</td>\n      <td>2024-10-21</td>\n      <td>2024-12-11</td>\n      <td>183</td>\n      <td>1812.77</td>\n      <td>8.70</td>\n      <td>None</td>\n    </tr>\n    <tr>\n      <th>46</th>\n      <td>4466</td>\n      <td>AMERICAN VINTAGE BEVERAGE</td>\n      <td>2024-11-12</td>\n      <td>12752</td>\n      <td>2024-10-25</td>\n      <td>2024-12-11</td>\n      <td>216</td>\n      <td>2156.16</td>\n      <td>10.57</td>\n      <td>None</td>\n    </tr>\n    <tr>\n      <th>47</th>\n      <td>4466</td>\n      <td>AMERICAN VINTAGE BEVERAGE</td>\n      <td>2024-11-20</td>\n      <td>12828</td>\n      <td>2024-10-30</td>\n      <td>2024-12-18</td>\n      <td>262</td>\n      <td>2597.36</td>\n      <td>12.99</td>\n      <td>None</td>\n    </tr>\n    <tr>\n      <th>48</th>\n      <td>4466</td>\n      <td>AMERICAN VINTAGE BEVERAGE</td>\n      <td>2024-11-27</td>\n      <td>12929</td>\n      <td>2024-11-06</td>\n      <td>2025-01-04</td>\n      <td>270</td>\n      <td>2622.32</td>\n      <td>12.85</td>\n      <td>None</td>\n    </tr>\n    <tr>\n      <th>49</th>\n      <td>4466</td>\n      <td>AMERICAN VINTAGE BEVERAGE</td>\n      <td>2024-11-28</td>\n      <td>13092</td>\n      <td>2024-11-16</td>\n      <td>2024-12-30</td>\n      <td>209</td>\n      <td>2036.17</td>\n      <td>11.20</td>\n      <td>None</td>\n    </tr>\n    <tr>\n      <th>50</th>\n      <td>4466</td>\n      <td>AMERICAN VINTAGE BEVERAGE</td>\n      <td>2024-12-06</td>\n      <td>13134</td>\n      <td>2024-11-20</td>\n      <td>2025-01-18</td>\n      <td>305</td>\n      <td>3018.89</td>\n      <td>15.70</td>\n      <td>None</td>\n    </tr>\n    <tr>\n      <th>51</th>\n      <td>4466</td>\n      <td>AMERICAN VINTAGE BEVERAGE</td>\n      <td>2024-12-16</td>\n      <td>13254</td>\n      <td>2024-11-28</td>\n      <td>2025-01-13</td>\n      <td>262</td>\n      <td>2530.36</td>\n      <td>11.39</td>\n      <td>None</td>\n    </tr>\n    <tr>\n      <th>52</th>\n      <td>4466</td>\n      <td>AMERICAN VINTAGE BEVERAGE</td>\n      <td>2024-12-26</td>\n      <td>13432</td>\n      <td>2024-12-09</td>\n      <td>2025-01-27</td>\n      <td>231</td>\n      <td>2263.43</td>\n      <td>11.32</td>\n      <td>None</td>\n    </tr>\n    <tr>\n      <th>53</th>\n      <td>4466</td>\n      <td>AMERICAN VINTAGE BEVERAGE</td>\n      <td>2024-12-30</td>\n      <td>13483</td>\n      <td>2024-12-13</td>\n      <td>2025-02-11</td>\n      <td>221</td>\n      <td>2178.27</td>\n      <td>11.33</td>\n      <td>None</td>\n    </tr>\n    <tr>\n      <th>54</th>\n      <td>4466</td>\n      <td>AMERICAN VINTAGE BEVERAGE</td>\n      <td>2025-01-09</td>\n      <td>13627</td>\n      <td>2024-12-22</td>\n      <td>2025-02-05</td>\n      <td>413</td>\n      <td>3985.03</td>\n      <td>19.53</td>\n      <td>None</td>\n    </tr>\n  </tbody>\n</table>\n</div>",
                        "text/plain": "    VendorNumber                   VendorName InvoiceDate  PONumber  \\\n0           4466  AMERICAN VINTAGE BEVERAGE    2024-01-07      8137   \n1           4466  AMERICAN VINTAGE BEVERAGE    2024-01-19      8207   \n2           4466  AMERICAN VINTAGE BEVERAGE    2024-01-18      8307   \n3           4466  AMERICAN VINTAGE BEVERAGE    2024-01-27      8469   \n4           4466  AMERICAN VINTAGE BEVERAGE    2024-02-04      8532   \n5           4466  AMERICAN VINTAGE BEVERAGE    2024-02-09      8604   \n6           4466  AMERICAN VINTAGE BEVERAGE    2024-02-17      8793   \n7           4466  AMERICAN VINTAGE BEVERAGE    2024-03-01      8892   \n8           4466  AMERICAN VINTAGE BEVERAGE    2024-03-07      8995   \n9           4466  AMERICAN VINTAGE BEVERAGE    2024-03-12      9033   \n10          4466  AMERICAN VINTAGE BEVERAGE    2024-03-16      9180   \n11          4466  AMERICAN VINTAGE BEVERAGE    2024-03-23      9244   \n12          4466  AMERICAN VINTAGE BEVERAGE    2024-03-31      9371   \n13          4466  AMERICAN VINTAGE BEVERAGE    2024-04-09      9491   \n14          4466  AMERICAN VINTAGE BEVERAGE    2024-04-17      9583   \n15          4466  AMERICAN VINTAGE BEVERAGE    2024-04-20      9639   \n16          4466  AMERICAN VINTAGE BEVERAGE    2024-04-29      9800   \n17          4466  AMERICAN VINTAGE BEVERAGE    2024-05-09      9886   \n18          4466  AMERICAN VINTAGE BEVERAGE    2024-05-14      9999   \n19          4466  AMERICAN VINTAGE BEVERAGE    2024-05-16     10095   \n20          4466  AMERICAN VINTAGE BEVERAGE    2024-05-28     10169   \n21          4466  AMERICAN VINTAGE BEVERAGE    2024-06-04     10257   \n22          4466  AMERICAN VINTAGE BEVERAGE    2024-06-12     10346   \n23          4466  AMERICAN VINTAGE BEVERAGE    2024-06-17     10445   \n24          4466  AMERICAN VINTAGE BEVERAGE    2024-06-22     10600   \n25          4466  AMERICAN VINTAGE BEVERAGE    2024-06-29     10695   \n26          4466  AMERICAN VINTAGE BEVERAGE    2024-07-09     10777   \n27          4466  AMERICAN VINTAGE BEVERAGE    2024-07-08     10836   \n28          4466  AMERICAN VINTAGE BEVERAGE    2024-07-11     10969   \n29          4466  AMERICAN VINTAGE BEVERAGE    2024-07-19     11085   \n30          4466  AMERICAN VINTAGE BEVERAGE    2024-07-26     11187   \n31          4466  AMERICAN VINTAGE BEVERAGE    2024-08-03     11244   \n32          4466  AMERICAN VINTAGE BEVERAGE    2024-08-11     11362   \n33          4466  AMERICAN VINTAGE BEVERAGE    2024-08-18     11489   \n34          4466  AMERICAN VINTAGE BEVERAGE    2024-08-24     11540   \n35          4466  AMERICAN VINTAGE BEVERAGE    2024-09-02     11716   \n36          4466  AMERICAN VINTAGE BEVERAGE    2024-09-12     11771   \n37          4466  AMERICAN VINTAGE BEVERAGE    2024-09-20     11901   \n38          4466  AMERICAN VINTAGE BEVERAGE    2024-09-25     11993   \n39          4466  AMERICAN VINTAGE BEVERAGE    2024-10-01     12125   \n40          4466  AMERICAN VINTAGE BEVERAGE    2024-10-08     12235   \n41          4466  AMERICAN VINTAGE BEVERAGE    2024-10-09     12253   \n42          4466  AMERICAN VINTAGE BEVERAGE    2024-10-12     12321   \n43          4466  AMERICAN VINTAGE BEVERAGE    2024-10-20     12466   \n44          4466  AMERICAN VINTAGE BEVERAGE    2024-10-27     12515   \n45          4466  AMERICAN VINTAGE BEVERAGE    2024-11-07     12702   \n46          4466  AMERICAN VINTAGE BEVERAGE    2024-11-12     12752   \n47          4466  AMERICAN VINTAGE BEVERAGE    2024-11-20     12828   \n48          4466  AMERICAN VINTAGE BEVERAGE    2024-11-27     12929   \n49          4466  AMERICAN VINTAGE BEVERAGE    2024-11-28     13092   \n50          4466  AMERICAN VINTAGE BEVERAGE    2024-12-06     13134   \n51          4466  AMERICAN VINTAGE BEVERAGE    2024-12-16     13254   \n52          4466  AMERICAN VINTAGE BEVERAGE    2024-12-26     13432   \n53          4466  AMERICAN VINTAGE BEVERAGE    2024-12-30     13483   \n54          4466  AMERICAN VINTAGE BEVERAGE    2025-01-09     13627   \n\n        PODate     PayDate  Quantity   Dollars  Freight Approval  \n0   2023-12-22  2024-02-21        15    140.55     8.57     None  \n1   2023-12-27  2024-02-26       335   3142.33    16.97     None  \n2   2024-01-03  2024-02-18        41    383.35     1.99     None  \n3   2024-01-14  2024-03-11        72    673.20     3.30     None  \n4   2024-01-19  2024-03-15        79    740.21     3.48     None  \n5   2024-01-24  2024-03-15       347   3261.37    17.61     None  \n6   2024-02-05  2024-04-02        72    675.36     3.17     None  \n7   2024-02-12  2024-03-28       117   1096.05     5.15     None  \n8   2024-02-19  2024-04-02       129   1209.27     5.44     None  \n9   2024-02-22  2024-04-16       147   1377.87     6.61     None  \n10  2024-03-03  2024-04-19       211   1979.33     9.50     None  \n11  2024-03-08  2024-04-21       161   1510.69     6.95     None  \n12  2024-03-17  2024-05-13       176   1649.20     8.91     None  \n13  2024-03-24  2024-05-08       215   2016.43    10.08     None  \n14  2024-03-31  2024-05-12       110   1035.10     5.69     None  \n15  2024-04-04  2024-06-04       515   5323.01    25.02     None  \n16  2024-04-15  2024-06-07       275   2775.01    13.60     None  \n17  2024-04-21  2024-06-12       312   3050.86    13.73     None  \n18  2024-04-29  2024-06-26       310   3117.82    14.97     None  \n19  2024-05-06  2024-06-27       215   2123.01    11.46     None  \n20  2024-05-11  2024-07-04       327   3298.55    15.83     None  \n21  2024-05-17  2024-07-08       376   3708.18    20.39     None  \n22  2024-05-23  2024-07-20       640   6458.38    29.71     None  \n23  2024-05-30  2024-07-19       288   2937.56    15.86     None  \n24  2024-06-09  2024-08-01       308   3213.28    17.03     None  \n25  2024-06-16  2024-08-12       143   1585.75     8.09     None  \n26  2024-06-22  2024-08-15        18    179.88     0.99     None  \n27  2024-06-25  2024-08-14         8     85.96     0.43     None  \n28  2024-06-29  2024-08-18        94    993.12     5.06     None  \n29  2024-07-06  2024-09-04       601   5883.09    31.18     None  \n30  2024-07-14  2024-08-26      1535  15406.69    77.03     None  \n31  2024-07-18  2024-09-04       266   2888.22    15.31     None  \n32  2024-07-26  2024-09-24       206   2171.64    11.08     None  \n33  2024-08-04  2024-09-16       768   7292.98    37.92     None  \n34  2024-08-08  2024-10-02      1207  12242.43    64.88     None  \n35  2024-08-19  2024-09-29       433   4334.43    20.37     None  \n36  2024-08-23  2024-10-11       370   3640.18    18.20     None  \n37  2024-09-01  2024-10-30       358   3626.74    16.32     None  \n38  2024-09-07  2024-10-23       233   2264.85    12.23     None  \n39  2024-09-16  2024-11-07       284   2813.46    15.47     None  \n40  2024-09-23  2024-11-20       258   2592.08    11.92     None  \n41  2024-09-23  2024-11-14         1     11.19     0.05     None  \n42  2024-09-26  2024-11-19       172   1685.98     7.59     None  \n43  2024-10-05  2024-11-26       280   2798.60    14.55     None  \n44  2024-10-09  2024-11-30       178   1763.28     8.64     None  \n45  2024-10-21  2024-12-11       183   1812.77     8.70     None  \n46  2024-10-25  2024-12-11       216   2156.16    10.57     None  \n47  2024-10-30  2024-12-18       262   2597.36    12.99     None  \n48  2024-11-06  2025-01-04       270   2622.32    12.85     None  \n49  2024-11-16  2024-12-30       209   2036.17    11.20     None  \n50  2024-11-20  2025-01-18       305   3018.89    15.70     None  \n51  2024-11-28  2025-01-13       262   2530.36    11.39     None  \n52  2024-12-09  2025-01-27       231   2263.43    11.32     None  \n53  2024-12-13  2025-02-11       221   2178.27    11.33     None  \n54  2024-12-22  2025-02-05       413   3985.03    19.53     None  "
                    },
                    "metadata": {}
                }
            ],
            "execution_count": 8
        },
        {
            "cell_type": "code",
            "source": [
                "sales = pd.read_sql_query(\"select * from sales where VendorNo = 4466\", conn)\n",
                "sales"
            ],
            "metadata": {
                "azdata_cell_guid": "2ef04a68-8d45-4150-8e9d-e63c13e97d39",
                "language": "sql"
            },
            "outputs": [
                {
                    "output_type": "execute_result",
                    "execution_count": 9,
                    "data": {
                        "text/html": "<div>\n<style scoped>\n    .dataframe tbody tr th:only-of-type {\n        vertical-align: middle;\n    }\n\n    .dataframe tbody tr th {\n        vertical-align: top;\n    }\n\n    .dataframe thead th {\n        text-align: right;\n    }\n</style>\n<table border=\"1\" class=\"dataframe\">\n  <thead>\n    <tr style=\"text-align: right;\">\n      <th></th>\n      <th>InventoryId</th>\n      <th>Store</th>\n      <th>Brand</th>\n      <th>Description</th>\n      <th>Size</th>\n      <th>SalesQuantity</th>\n      <th>SalesDollars</th>\n      <th>SalesPrice</th>\n      <th>SalesDate</th>\n      <th>Volume</th>\n      <th>Classification</th>\n      <th>ExciseTax</th>\n      <th>VendorNo</th>\n      <th>VendorName</th>\n    </tr>\n  </thead>\n  <tbody>\n    <tr>\n      <th>0</th>\n      <td>1_HARDERSFIELD_5215</td>\n      <td>1</td>\n      <td>5215</td>\n      <td>TGI Fridays Long Island Iced</td>\n      <td>1.75L</td>\n      <td>1</td>\n      <td>12.99</td>\n      <td>12.99</td>\n      <td>2024-01-09</td>\n      <td>1750.0</td>\n      <td>1</td>\n      <td>1.84</td>\n      <td>4466</td>\n      <td>AMERICAN VINTAGE BEVERAGE</td>\n    </tr>\n    <tr>\n      <th>1</th>\n      <td>1_HARDERSFIELD_5215</td>\n      <td>1</td>\n      <td>5215</td>\n      <td>TGI Fridays Long Island Iced</td>\n      <td>1.75L</td>\n      <td>1</td>\n      <td>12.99</td>\n      <td>12.99</td>\n      <td>2024-01-12</td>\n      <td>1750.0</td>\n      <td>1</td>\n      <td>1.84</td>\n      <td>4466</td>\n      <td>AMERICAN VINTAGE BEVERAGE</td>\n    </tr>\n    <tr>\n      <th>2</th>\n      <td>1_HARDERSFIELD_5215</td>\n      <td>1</td>\n      <td>5215</td>\n      <td>TGI Fridays Long Island Iced</td>\n      <td>1.75L</td>\n      <td>1</td>\n      <td>12.99</td>\n      <td>12.99</td>\n      <td>2024-01-15</td>\n      <td>1750.0</td>\n      <td>1</td>\n      <td>1.84</td>\n      <td>4466</td>\n      <td>AMERICAN VINTAGE BEVERAGE</td>\n    </tr>\n    <tr>\n      <th>3</th>\n      <td>1_HARDERSFIELD_5215</td>\n      <td>1</td>\n      <td>5215</td>\n      <td>TGI Fridays Long Island Iced</td>\n      <td>1.75L</td>\n      <td>1</td>\n      <td>12.99</td>\n      <td>12.99</td>\n      <td>2024-01-21</td>\n      <td>1750.0</td>\n      <td>1</td>\n      <td>1.84</td>\n      <td>4466</td>\n      <td>AMERICAN VINTAGE BEVERAGE</td>\n    </tr>\n    <tr>\n      <th>4</th>\n      <td>1_HARDERSFIELD_5215</td>\n      <td>1</td>\n      <td>5215</td>\n      <td>TGI Fridays Long Island Iced</td>\n      <td>1.75L</td>\n      <td>1</td>\n      <td>12.99</td>\n      <td>12.99</td>\n      <td>2024-01-23</td>\n      <td>1750.0</td>\n      <td>1</td>\n      <td>1.84</td>\n      <td>4466</td>\n      <td>AMERICAN VINTAGE BEVERAGE</td>\n    </tr>\n    <tr>\n      <th>...</th>\n      <td>...</td>\n      <td>...</td>\n      <td>...</td>\n      <td>...</td>\n      <td>...</td>\n      <td>...</td>\n      <td>...</td>\n      <td>...</td>\n      <td>...</td>\n      <td>...</td>\n      <td>...</td>\n      <td>...</td>\n      <td>...</td>\n      <td>...</td>\n    </tr>\n    <tr>\n      <th>9448</th>\n      <td>9_BLACKPOOL_5215</td>\n      <td>9</td>\n      <td>5215</td>\n      <td>TGI Fridays Long Island Iced</td>\n      <td>1.75L</td>\n      <td>1</td>\n      <td>12.99</td>\n      <td>12.99</td>\n      <td>2024-12-21</td>\n      <td>1750.0</td>\n      <td>1</td>\n      <td>1.84</td>\n      <td>4466</td>\n      <td>AMERICAN VINTAGE BEVERAGE</td>\n    </tr>\n    <tr>\n      <th>9449</th>\n      <td>9_BLACKPOOL_5255</td>\n      <td>9</td>\n      <td>5255</td>\n      <td>TGI Fridays Ultimte Mudslide</td>\n      <td>1.75L</td>\n      <td>1</td>\n      <td>12.99</td>\n      <td>12.99</td>\n      <td>2024-12-02</td>\n      <td>1750.0</td>\n      <td>1</td>\n      <td>1.84</td>\n      <td>4466</td>\n      <td>AMERICAN VINTAGE BEVERAGE</td>\n    </tr>\n    <tr>\n      <th>9450</th>\n      <td>9_BLACKPOOL_5255</td>\n      <td>9</td>\n      <td>5255</td>\n      <td>TGI Fridays Ultimte Mudslide</td>\n      <td>1.75L</td>\n      <td>1</td>\n      <td>12.99</td>\n      <td>12.99</td>\n      <td>2024-12-09</td>\n      <td>1750.0</td>\n      <td>1</td>\n      <td>1.84</td>\n      <td>4466</td>\n      <td>AMERICAN VINTAGE BEVERAGE</td>\n    </tr>\n    <tr>\n      <th>9451</th>\n      <td>9_BLACKPOOL_5255</td>\n      <td>9</td>\n      <td>5255</td>\n      <td>TGI Fridays Ultimte Mudslide</td>\n      <td>1.75L</td>\n      <td>1</td>\n      <td>12.99</td>\n      <td>12.99</td>\n      <td>2024-12-23</td>\n      <td>1750.0</td>\n      <td>1</td>\n      <td>1.84</td>\n      <td>4466</td>\n      <td>AMERICAN VINTAGE BEVERAGE</td>\n    </tr>\n    <tr>\n      <th>9452</th>\n      <td>9_BLACKPOOL_5255</td>\n      <td>9</td>\n      <td>5255</td>\n      <td>TGI Fridays Ultimte Mudslide</td>\n      <td>1.75L</td>\n      <td>1</td>\n      <td>12.99</td>\n      <td>12.99</td>\n      <td>2024-12-31</td>\n      <td>1750.0</td>\n      <td>1</td>\n      <td>1.84</td>\n      <td>4466</td>\n      <td>AMERICAN VINTAGE BEVERAGE</td>\n    </tr>\n  </tbody>\n</table>\n<p>9453 rows × 14 columns</p>\n</div>",
                        "text/plain": "              InventoryId  Store  Brand                   Description   Size  \\\n0     1_HARDERSFIELD_5215      1   5215  TGI Fridays Long Island Iced  1.75L   \n1     1_HARDERSFIELD_5215      1   5215  TGI Fridays Long Island Iced  1.75L   \n2     1_HARDERSFIELD_5215      1   5215  TGI Fridays Long Island Iced  1.75L   \n3     1_HARDERSFIELD_5215      1   5215  TGI Fridays Long Island Iced  1.75L   \n4     1_HARDERSFIELD_5215      1   5215  TGI Fridays Long Island Iced  1.75L   \n...                   ...    ...    ...                           ...    ...   \n9448     9_BLACKPOOL_5215      9   5215  TGI Fridays Long Island Iced  1.75L   \n9449     9_BLACKPOOL_5255      9   5255  TGI Fridays Ultimte Mudslide  1.75L   \n9450     9_BLACKPOOL_5255      9   5255  TGI Fridays Ultimte Mudslide  1.75L   \n9451     9_BLACKPOOL_5255      9   5255  TGI Fridays Ultimte Mudslide  1.75L   \n9452     9_BLACKPOOL_5255      9   5255  TGI Fridays Ultimte Mudslide  1.75L   \n\n      SalesQuantity  SalesDollars  SalesPrice   SalesDate  Volume  \\\n0                 1         12.99       12.99  2024-01-09  1750.0   \n1                 1         12.99       12.99  2024-01-12  1750.0   \n2                 1         12.99       12.99  2024-01-15  1750.0   \n3                 1         12.99       12.99  2024-01-21  1750.0   \n4                 1         12.99       12.99  2024-01-23  1750.0   \n...             ...           ...         ...         ...     ...   \n9448              1         12.99       12.99  2024-12-21  1750.0   \n9449              1         12.99       12.99  2024-12-02  1750.0   \n9450              1         12.99       12.99  2024-12-09  1750.0   \n9451              1         12.99       12.99  2024-12-23  1750.0   \n9452              1         12.99       12.99  2024-12-31  1750.0   \n\n      Classification  ExciseTax  VendorNo                   VendorName  \n0                  1       1.84      4466  AMERICAN VINTAGE BEVERAGE    \n1                  1       1.84      4466  AMERICAN VINTAGE BEVERAGE    \n2                  1       1.84      4466  AMERICAN VINTAGE BEVERAGE    \n3                  1       1.84      4466  AMERICAN VINTAGE BEVERAGE    \n4                  1       1.84      4466  AMERICAN VINTAGE BEVERAGE    \n...              ...        ...       ...                          ...  \n9448               1       1.84      4466  AMERICAN VINTAGE BEVERAGE    \n9449               1       1.84      4466  AMERICAN VINTAGE BEVERAGE    \n9450               1       1.84      4466  AMERICAN VINTAGE BEVERAGE    \n9451               1       1.84      4466  AMERICAN VINTAGE BEVERAGE    \n9452               1       1.84      4466  AMERICAN VINTAGE BEVERAGE    \n\n[9453 rows x 14 columns]"
                    },
                    "metadata": {}
                }
            ],
            "execution_count": 9
        },
        {
            "cell_type": "code",
            "source": [
                "purchases.groupby(['Brand', 'PurchasePrice'])[['Quantity', 'Dollars']].sum()"
            ],
            "metadata": {
                "azdata_cell_guid": "82d28976-5ce6-4d8e-8050-85e124f10470",
                "language": "sql"
            },
            "outputs": [
                {
                    "output_type": "execute_result",
                    "execution_count": 10,
                    "data": {
                        "text/html": "<div>\n<style scoped>\n    .dataframe tbody tr th:only-of-type {\n        vertical-align: middle;\n    }\n\n    .dataframe tbody tr th {\n        vertical-align: top;\n    }\n\n    .dataframe thead th {\n        text-align: right;\n    }\n</style>\n<table border=\"1\" class=\"dataframe\">\n  <thead>\n    <tr style=\"text-align: right;\">\n      <th></th>\n      <th></th>\n      <th>Quantity</th>\n      <th>Dollars</th>\n    </tr>\n    <tr>\n      <th>Brand</th>\n      <th>PurchasePrice</th>\n      <th></th>\n      <th></th>\n    </tr>\n  </thead>\n  <tbody>\n    <tr>\n      <th>3140</th>\n      <th>11.19</th>\n      <td>4640</td>\n      <td>51921.60</td>\n    </tr>\n    <tr>\n      <th>5215</th>\n      <th>9.41</th>\n      <td>4923</td>\n      <td>46325.43</td>\n    </tr>\n    <tr>\n      <th>5255</th>\n      <th>9.35</th>\n      <td>6215</td>\n      <td>58110.25</td>\n    </tr>\n  </tbody>\n</table>\n</div>",
                        "text/plain": "                     Quantity   Dollars\nBrand PurchasePrice                    \n3140  11.19              4640  51921.60\n5215  9.41               4923  46325.43\n5255  9.35               6215  58110.25"
                    },
                    "metadata": {}
                }
            ],
            "execution_count": 10
        },
        {
            "cell_type": "code",
            "source": [
                "purchase_prices"
            ],
            "metadata": {
                "azdata_cell_guid": "b4fa6652-de2a-42a2-a534-b3ae8be65edd",
                "language": "sql"
            },
            "outputs": [
                {
                    "output_type": "execute_result",
                    "execution_count": 11,
                    "data": {
                        "text/html": "<div>\n<style scoped>\n    .dataframe tbody tr th:only-of-type {\n        vertical-align: middle;\n    }\n\n    .dataframe tbody tr th {\n        vertical-align: top;\n    }\n\n    .dataframe thead th {\n        text-align: right;\n    }\n</style>\n<table border=\"1\" class=\"dataframe\">\n  <thead>\n    <tr style=\"text-align: right;\">\n      <th></th>\n      <th>Brand</th>\n      <th>Description</th>\n      <th>Price</th>\n      <th>Size</th>\n      <th>Volume</th>\n      <th>Classification</th>\n      <th>PurchasePrice</th>\n      <th>VendorNumber</th>\n      <th>VendorName</th>\n    </tr>\n  </thead>\n  <tbody>\n    <tr>\n      <th>0</th>\n      <td>5215</td>\n      <td>TGI Fridays Long Island Iced</td>\n      <td>12.99</td>\n      <td>1750mL</td>\n      <td>1750</td>\n      <td>1</td>\n      <td>9.41</td>\n      <td>4466</td>\n      <td>AMERICAN VINTAGE BEVERAGE</td>\n    </tr>\n    <tr>\n      <th>1</th>\n      <td>5255</td>\n      <td>TGI Fridays Ultimte Mudslide</td>\n      <td>12.99</td>\n      <td>1750mL</td>\n      <td>1750</td>\n      <td>1</td>\n      <td>9.35</td>\n      <td>4466</td>\n      <td>AMERICAN VINTAGE BEVERAGE</td>\n    </tr>\n    <tr>\n      <th>2</th>\n      <td>3140</td>\n      <td>TGI Fridays Orange Dream</td>\n      <td>14.99</td>\n      <td>1750mL</td>\n      <td>1750</td>\n      <td>1</td>\n      <td>11.19</td>\n      <td>4466</td>\n      <td>AMERICAN VINTAGE BEVERAGE</td>\n    </tr>\n  </tbody>\n</table>\n</div>",
                        "text/plain": "   Brand                   Description  Price    Size Volume  Classification  \\\n0   5215  TGI Fridays Long Island Iced  12.99  1750mL   1750               1   \n1   5255  TGI Fridays Ultimte Mudslide  12.99  1750mL   1750               1   \n2   3140      TGI Fridays Orange Dream  14.99  1750mL   1750               1   \n\n   PurchasePrice  VendorNumber                   VendorName  \n0           9.41          4466  AMERICAN VINTAGE BEVERAGE    \n1           9.35          4466  AMERICAN VINTAGE BEVERAGE    \n2          11.19          4466  AMERICAN VINTAGE BEVERAGE    "
                    },
                    "metadata": {}
                }
            ],
            "execution_count": 11
        },
        {
            "cell_type": "code",
            "source": [
                "vendor_invoice.columns"
            ],
            "metadata": {
                "scrolled": true,
                "azdata_cell_guid": "efb81086-7795-4c00-8ea7-0d5fb5e70ad1",
                "language": "sql"
            },
            "outputs": [
                {
                    "output_type": "execute_result",
                    "execution_count": 12,
                    "data": {
                        "text/plain": "Index(['VendorNumber', 'VendorName', 'InvoiceDate', 'PONumber', 'PODate',\n       'PayDate', 'Quantity', 'Dollars', 'Freight', 'Approval'],\n      dtype='object')"
                    },
                    "metadata": {}
                }
            ],
            "execution_count": 12
        },
        {
            "cell_type": "code",
            "source": [
                "purchases"
            ],
            "metadata": {
                "azdata_cell_guid": "c1cc831d-0ac0-4f97-a629-bc8b70366132",
                "language": "sql"
            },
            "outputs": [
                {
                    "output_type": "execute_result",
                    "execution_count": 13,
                    "data": {
                        "text/html": "<div>\n<style scoped>\n    .dataframe tbody tr th:only-of-type {\n        vertical-align: middle;\n    }\n\n    .dataframe tbody tr th {\n        vertical-align: top;\n    }\n\n    .dataframe thead th {\n        text-align: right;\n    }\n</style>\n<table border=\"1\" class=\"dataframe\">\n  <thead>\n    <tr style=\"text-align: right;\">\n      <th></th>\n      <th>InventoryId</th>\n      <th>Store</th>\n      <th>Brand</th>\n      <th>Description</th>\n      <th>Size</th>\n      <th>VendorNumber</th>\n      <th>VendorName</th>\n      <th>PONumber</th>\n      <th>PODate</th>\n      <th>ReceivingDate</th>\n      <th>InvoiceDate</th>\n      <th>PayDate</th>\n      <th>PurchasePrice</th>\n      <th>Quantity</th>\n      <th>Dollars</th>\n      <th>Classification</th>\n    </tr>\n  </thead>\n  <tbody>\n    <tr>\n      <th>0</th>\n      <td>30_CULCHETH_5255</td>\n      <td>30</td>\n      <td>5255</td>\n      <td>TGI Fridays Ultimte Mudslide</td>\n      <td>1.75L</td>\n      <td>4466</td>\n      <td>AMERICAN VINTAGE BEVERAGE</td>\n      <td>8137</td>\n      <td>2023-12-22</td>\n      <td>2024-01-01</td>\n      <td>2024-01-07</td>\n      <td>2024-02-21</td>\n      <td>9.35</td>\n      <td>4</td>\n      <td>37.40</td>\n      <td>1</td>\n    </tr>\n    <tr>\n      <th>1</th>\n      <td>34_PITMERDEN_5215</td>\n      <td>34</td>\n      <td>5215</td>\n      <td>TGI Fridays Long Island Iced</td>\n      <td>1.75L</td>\n      <td>4466</td>\n      <td>AMERICAN VINTAGE BEVERAGE</td>\n      <td>8137</td>\n      <td>2023-12-22</td>\n      <td>2024-01-02</td>\n      <td>2024-01-07</td>\n      <td>2024-02-21</td>\n      <td>9.41</td>\n      <td>5</td>\n      <td>47.05</td>\n      <td>1</td>\n    </tr>\n    <tr>\n      <th>2</th>\n      <td>1_HARDERSFIELD_5255</td>\n      <td>1</td>\n      <td>5255</td>\n      <td>TGI Fridays Ultimte Mudslide</td>\n      <td>1.75L</td>\n      <td>4466</td>\n      <td>AMERICAN VINTAGE BEVERAGE</td>\n      <td>8137</td>\n      <td>2023-12-22</td>\n      <td>2024-01-01</td>\n      <td>2024-01-07</td>\n      <td>2024-02-21</td>\n      <td>9.35</td>\n      <td>6</td>\n      <td>56.10</td>\n      <td>1</td>\n    </tr>\n    <tr>\n      <th>3</th>\n      <td>38_GOULCREST_5215</td>\n      <td>38</td>\n      <td>5215</td>\n      <td>TGI Fridays Long Island Iced</td>\n      <td>1.75L</td>\n      <td>4466</td>\n      <td>AMERICAN VINTAGE BEVERAGE</td>\n      <td>8207</td>\n      <td>2023-12-27</td>\n      <td>2024-01-07</td>\n      <td>2024-01-19</td>\n      <td>2024-02-26</td>\n      <td>9.41</td>\n      <td>6</td>\n      <td>56.46</td>\n      <td>1</td>\n    </tr>\n    <tr>\n      <th>4</th>\n      <td>59_CLAETHORPES_5215</td>\n      <td>59</td>\n      <td>5215</td>\n      <td>TGI Fridays Long Island Iced</td>\n      <td>1.75L</td>\n      <td>4466</td>\n      <td>AMERICAN VINTAGE BEVERAGE</td>\n      <td>8207</td>\n      <td>2023-12-27</td>\n      <td>2024-01-05</td>\n      <td>2024-01-19</td>\n      <td>2024-02-26</td>\n      <td>9.41</td>\n      <td>6</td>\n      <td>56.46</td>\n      <td>1</td>\n    </tr>\n    <tr>\n      <th>...</th>\n      <td>...</td>\n      <td>...</td>\n      <td>...</td>\n      <td>...</td>\n      <td>...</td>\n      <td>...</td>\n      <td>...</td>\n      <td>...</td>\n      <td>...</td>\n      <td>...</td>\n      <td>...</td>\n      <td>...</td>\n      <td>...</td>\n      <td>...</td>\n      <td>...</td>\n      <td>...</td>\n    </tr>\n    <tr>\n      <th>2187</th>\n      <td>81_PEMBROKE_5215</td>\n      <td>81</td>\n      <td>5215</td>\n      <td>TGI Fridays Long Island Iced</td>\n      <td>1.75L</td>\n      <td>4466</td>\n      <td>AMERICAN VINTAGE BEVERAGE</td>\n      <td>13595</td>\n      <td>2024-12-20</td>\n      <td>2024-12-29</td>\n      <td>2025-01-04</td>\n      <td>2025-02-10</td>\n      <td>9.41</td>\n      <td>6</td>\n      <td>56.46</td>\n      <td>1</td>\n    </tr>\n    <tr>\n      <th>2188</th>\n      <td>62_KILMARNOCK_5255</td>\n      <td>62</td>\n      <td>5255</td>\n      <td>TGI Fridays Ultimte Mudslide</td>\n      <td>1.75L</td>\n      <td>4466</td>\n      <td>AMERICAN VINTAGE BEVERAGE</td>\n      <td>13595</td>\n      <td>2024-12-20</td>\n      <td>2024-12-28</td>\n      <td>2025-01-04</td>\n      <td>2025-02-10</td>\n      <td>9.35</td>\n      <td>5</td>\n      <td>46.75</td>\n      <td>1</td>\n    </tr>\n    <tr>\n      <th>2189</th>\n      <td>34_PITMERDEN_5215</td>\n      <td>34</td>\n      <td>5215</td>\n      <td>TGI Fridays Long Island Iced</td>\n      <td>1.75L</td>\n      <td>4466</td>\n      <td>AMERICAN VINTAGE BEVERAGE</td>\n      <td>13595</td>\n      <td>2024-12-20</td>\n      <td>2024-12-28</td>\n      <td>2025-01-04</td>\n      <td>2025-02-10</td>\n      <td>9.41</td>\n      <td>5</td>\n      <td>47.05</td>\n      <td>1</td>\n    </tr>\n    <tr>\n      <th>2190</th>\n      <td>6_GOULCREST_5215</td>\n      <td>6</td>\n      <td>5215</td>\n      <td>TGI Fridays Long Island Iced</td>\n      <td>1.75L</td>\n      <td>4466</td>\n      <td>AMERICAN VINTAGE BEVERAGE</td>\n      <td>13595</td>\n      <td>2024-12-20</td>\n      <td>2024-12-31</td>\n      <td>2025-01-04</td>\n      <td>2025-02-10</td>\n      <td>9.41</td>\n      <td>6</td>\n      <td>56.46</td>\n      <td>1</td>\n    </tr>\n    <tr>\n      <th>2191</th>\n      <td>35_HALIVAARA_5255</td>\n      <td>35</td>\n      <td>5255</td>\n      <td>TGI Fridays Ultimte Mudslide</td>\n      <td>1.75L</td>\n      <td>4466</td>\n      <td>AMERICAN VINTAGE BEVERAGE</td>\n      <td>13595</td>\n      <td>2024-12-20</td>\n      <td>2024-12-27</td>\n      <td>2025-01-04</td>\n      <td>2025-02-10</td>\n      <td>9.35</td>\n      <td>5</td>\n      <td>46.75</td>\n      <td>1</td>\n    </tr>\n  </tbody>\n</table>\n<p>2192 rows × 16 columns</p>\n</div>",
                        "text/plain": "              InventoryId  Store  Brand                   Description   Size  \\\n0        30_CULCHETH_5255     30   5255  TGI Fridays Ultimte Mudslide  1.75L   \n1       34_PITMERDEN_5215     34   5215  TGI Fridays Long Island Iced  1.75L   \n2     1_HARDERSFIELD_5255      1   5255  TGI Fridays Ultimte Mudslide  1.75L   \n3       38_GOULCREST_5215     38   5215  TGI Fridays Long Island Iced  1.75L   \n4     59_CLAETHORPES_5215     59   5215  TGI Fridays Long Island Iced  1.75L   \n...                   ...    ...    ...                           ...    ...   \n2187     81_PEMBROKE_5215     81   5215  TGI Fridays Long Island Iced  1.75L   \n2188   62_KILMARNOCK_5255     62   5255  TGI Fridays Ultimte Mudslide  1.75L   \n2189    34_PITMERDEN_5215     34   5215  TGI Fridays Long Island Iced  1.75L   \n2190     6_GOULCREST_5215      6   5215  TGI Fridays Long Island Iced  1.75L   \n2191    35_HALIVAARA_5255     35   5255  TGI Fridays Ultimte Mudslide  1.75L   \n\n      VendorNumber                   VendorName  PONumber      PODate  \\\n0             4466  AMERICAN VINTAGE BEVERAGE        8137  2023-12-22   \n1             4466  AMERICAN VINTAGE BEVERAGE        8137  2023-12-22   \n2             4466  AMERICAN VINTAGE BEVERAGE        8137  2023-12-22   \n3             4466  AMERICAN VINTAGE BEVERAGE        8207  2023-12-27   \n4             4466  AMERICAN VINTAGE BEVERAGE        8207  2023-12-27   \n...            ...                          ...       ...         ...   \n2187          4466  AMERICAN VINTAGE BEVERAGE       13595  2024-12-20   \n2188          4466  AMERICAN VINTAGE BEVERAGE       13595  2024-12-20   \n2189          4466  AMERICAN VINTAGE BEVERAGE       13595  2024-12-20   \n2190          4466  AMERICAN VINTAGE BEVERAGE       13595  2024-12-20   \n2191          4466  AMERICAN VINTAGE BEVERAGE       13595  2024-12-20   \n\n     ReceivingDate InvoiceDate     PayDate  PurchasePrice  Quantity  Dollars  \\\n0       2024-01-01  2024-01-07  2024-02-21           9.35         4    37.40   \n1       2024-01-02  2024-01-07  2024-02-21           9.41         5    47.05   \n2       2024-01-01  2024-01-07  2024-02-21           9.35         6    56.10   \n3       2024-01-07  2024-01-19  2024-02-26           9.41         6    56.46   \n4       2024-01-05  2024-01-19  2024-02-26           9.41         6    56.46   \n...            ...         ...         ...            ...       ...      ...   \n2187    2024-12-29  2025-01-04  2025-02-10           9.41         6    56.46   \n2188    2024-12-28  2025-01-04  2025-02-10           9.35         5    46.75   \n2189    2024-12-28  2025-01-04  2025-02-10           9.41         5    47.05   \n2190    2024-12-31  2025-01-04  2025-02-10           9.41         6    56.46   \n2191    2024-12-27  2025-01-04  2025-02-10           9.35         5    46.75   \n\n      Classification  \n0                  1  \n1                  1  \n2                  1  \n3                  1  \n4                  1  \n...              ...  \n2187               1  \n2188               1  \n2189               1  \n2190               1  \n2191               1  \n\n[2192 rows x 16 columns]"
                    },
                    "metadata": {}
                }
            ],
            "execution_count": 13
        },
        {
            "cell_type": "code",
            "source": [
                "sales.groupby('Brand')[['SalesDollars', 'SalesPrice','SalesQuantity']].sum()"
            ],
            "metadata": {
                "azdata_cell_guid": "8f4607ad-085e-4d7f-ab3d-6678366bfd22",
                "language": "sql"
            },
            "outputs": [
                {
                    "output_type": "execute_result",
                    "execution_count": 14,
                    "data": {
                        "text/html": "<div>\n<style scoped>\n    .dataframe tbody tr th:only-of-type {\n        vertical-align: middle;\n    }\n\n    .dataframe tbody tr th {\n        vertical-align: top;\n    }\n\n    .dataframe thead th {\n        text-align: right;\n    }\n</style>\n<table border=\"1\" class=\"dataframe\">\n  <thead>\n    <tr style=\"text-align: right;\">\n      <th></th>\n      <th>SalesDollars</th>\n      <th>SalesPrice</th>\n      <th>SalesQuantity</th>\n    </tr>\n    <tr>\n      <th>Brand</th>\n      <th></th>\n      <th></th>\n      <th></th>\n    </tr>\n  </thead>\n  <tbody>\n    <tr>\n      <th>3140</th>\n      <td>50531.10</td>\n      <td>30071.85</td>\n      <td>3890</td>\n    </tr>\n    <tr>\n      <th>5215</th>\n      <td>60416.49</td>\n      <td>41542.02</td>\n      <td>4651</td>\n    </tr>\n    <tr>\n      <th>5255</th>\n      <td>79187.04</td>\n      <td>51180.60</td>\n      <td>6096</td>\n    </tr>\n  </tbody>\n</table>\n</div>",
                        "text/plain": "       SalesDollars  SalesPrice  SalesQuantity\nBrand                                         \n3140       50531.10    30071.85           3890\n5215       60416.49    41542.02           4651\n5255       79187.04    51180.60           6096"
                    },
                    "metadata": {}
                }
            ],
            "execution_count": 14
        },
        {
            "cell_type": "code",
            "source": [
                "purchases.groupby(['Brand', 'PurchasePrice'])[['Quantity', 'Dollars']].sum()"
            ],
            "metadata": {
                "azdata_cell_guid": "73e83120-925b-4377-b1f6-e40b7a784830",
                "language": "sql"
            },
            "outputs": [
                {
                    "output_type": "execute_result",
                    "execution_count": 15,
                    "data": {
                        "text/html": "<div>\n<style scoped>\n    .dataframe tbody tr th:only-of-type {\n        vertical-align: middle;\n    }\n\n    .dataframe tbody tr th {\n        vertical-align: top;\n    }\n\n    .dataframe thead th {\n        text-align: right;\n    }\n</style>\n<table border=\"1\" class=\"dataframe\">\n  <thead>\n    <tr style=\"text-align: right;\">\n      <th></th>\n      <th></th>\n      <th>Quantity</th>\n      <th>Dollars</th>\n    </tr>\n    <tr>\n      <th>Brand</th>\n      <th>PurchasePrice</th>\n      <th></th>\n      <th></th>\n    </tr>\n  </thead>\n  <tbody>\n    <tr>\n      <th>3140</th>\n      <th>11.19</th>\n      <td>4640</td>\n      <td>51921.60</td>\n    </tr>\n    <tr>\n      <th>5215</th>\n      <th>9.41</th>\n      <td>4923</td>\n      <td>46325.43</td>\n    </tr>\n    <tr>\n      <th>5255</th>\n      <th>9.35</th>\n      <td>6215</td>\n      <td>58110.25</td>\n    </tr>\n  </tbody>\n</table>\n</div>",
                        "text/plain": "                     Quantity   Dollars\nBrand PurchasePrice                    \n3140  11.19              4640  51921.60\n5215  9.41               4923  46325.43\n5255  9.35               6215  58110.25"
                    },
                    "metadata": {}
                }
            ],
            "execution_count": 15
        },
        {
            "cell_type": "markdown",
            "source": [
                "# \n",
                "* The purchases table contains actual purchases data, including the date of purchase, products (brands) purchases by vendors, the amount paid(in dollars), and the quantity purchased.\n",
                "\n",
                "* The purchases price column is derived from the purchase_price table, which provides product-wise actual price and purchase prices. The combination of vendor and brand is unique in this  table.\n",
                "\n",
                "* The vendor_invoice table aggregates data from the purchases table, summarizing quantity and dollar amounts, along with an additional column for freight.This table maintain uniqueness based on vendor and PO number.\n",
                "\n",
                "* The sales table captures actual sales transactions, detailing the brands purchased by vendors, the quantity sold, the selling price, and the revenue earned."
            ],
            "metadata": {
                "azdata_cell_guid": "7e6d53c8-b2b6-439c-a91b-c89d541c9323"
            }
        },
        {
            "cell_type": "markdown",
            "source": [
                "# \n",
                "As the data that we need for analysis is distributed in different tables, we need to create a summary table containing:\n",
                "\n",
                "   * purchase transactions made by vendors\n",
                "   * sales transaction data\n",
                "   * freight costs for each vendor\n",
                "   * actual product prices from vendors"
            ],
            "metadata": {
                "azdata_cell_guid": "c8309868-0c24-40c4-a7bc-f14c947da93a"
            }
        },
        {
            "cell_type": "markdown",
            "source": [
                "# Creating Summary table"
            ],
            "metadata": {
                "azdata_cell_guid": "2ed2004f-b841-48cc-852b-7088dcd9f6ad"
            }
        },
        {
            "cell_type": "code",
            "source": [
                "freight_summary = pd.read_sql_query(\"\"\"select \n",
                "    VendorNumber, \n",
                "    SUM(Freight) as FreightCost\n",
                "    from vendor_invoice\n",
                "    group by VendorNumber\"\"\", conn)"
            ],
            "metadata": {
                "azdata_cell_guid": "2687c8ff-837b-428a-abe4-fd36989d0ba2",
                "language": "sql"
            },
            "outputs": [],
            "execution_count": 16
        },
        {
            "cell_type": "code",
            "source": [
                "freight_summary"
            ],
            "metadata": {
                "scrolled": true,
                "azdata_cell_guid": "1894e51d-6b03-470f-99d3-ac3d7f86436c",
                "language": "sql"
            },
            "outputs": [
                {
                    "output_type": "execute_result",
                    "execution_count": 17,
                    "data": {
                        "text/html": "<div>\n<style scoped>\n    .dataframe tbody tr th:only-of-type {\n        vertical-align: middle;\n    }\n\n    .dataframe tbody tr th {\n        vertical-align: top;\n    }\n\n    .dataframe thead th {\n        text-align: right;\n    }\n</style>\n<table border=\"1\" class=\"dataframe\">\n  <thead>\n    <tr style=\"text-align: right;\">\n      <th></th>\n      <th>VendorNumber</th>\n      <th>FreightCost</th>\n    </tr>\n  </thead>\n  <tbody>\n    <tr>\n      <th>0</th>\n      <td>2</td>\n      <td>27.08</td>\n    </tr>\n    <tr>\n      <th>1</th>\n      <td>54</td>\n      <td>0.48</td>\n    </tr>\n    <tr>\n      <th>2</th>\n      <td>60</td>\n      <td>367.52</td>\n    </tr>\n    <tr>\n      <th>3</th>\n      <td>105</td>\n      <td>62.39</td>\n    </tr>\n    <tr>\n      <th>4</th>\n      <td>200</td>\n      <td>6.19</td>\n    </tr>\n    <tr>\n      <th>...</th>\n      <td>...</td>\n      <td>...</td>\n    </tr>\n    <tr>\n      <th>121</th>\n      <td>98450</td>\n      <td>856.02</td>\n    </tr>\n    <tr>\n      <th>122</th>\n      <td>99166</td>\n      <td>130.09</td>\n    </tr>\n    <tr>\n      <th>123</th>\n      <td>172662</td>\n      <td>178.34</td>\n    </tr>\n    <tr>\n      <th>124</th>\n      <td>173357</td>\n      <td>202.50</td>\n    </tr>\n    <tr>\n      <th>125</th>\n      <td>201359</td>\n      <td>0.09</td>\n    </tr>\n  </tbody>\n</table>\n<p>126 rows × 2 columns</p>\n</div>",
                        "text/plain": "     VendorNumber  FreightCost\n0               2        27.08\n1              54         0.48\n2              60       367.52\n3             105        62.39\n4             200         6.19\n..            ...          ...\n121         98450       856.02\n122         99166       130.09\n123        172662       178.34\n124        173357       202.50\n125        201359         0.09\n\n[126 rows x 2 columns]"
                    },
                    "metadata": {}
                }
            ],
            "execution_count": 17
        },
        {
            "cell_type": "code",
            "source": [
                "purchases.head(2)"
            ],
            "metadata": {
                "azdata_cell_guid": "f16ab312-9489-49a2-9635-ee3f8f7a6b9b",
                "language": "sql"
            },
            "outputs": [
                {
                    "output_type": "execute_result",
                    "execution_count": 18,
                    "data": {
                        "text/html": "<div>\n<style scoped>\n    .dataframe tbody tr th:only-of-type {\n        vertical-align: middle;\n    }\n\n    .dataframe tbody tr th {\n        vertical-align: top;\n    }\n\n    .dataframe thead th {\n        text-align: right;\n    }\n</style>\n<table border=\"1\" class=\"dataframe\">\n  <thead>\n    <tr style=\"text-align: right;\">\n      <th></th>\n      <th>InventoryId</th>\n      <th>Store</th>\n      <th>Brand</th>\n      <th>Description</th>\n      <th>Size</th>\n      <th>VendorNumber</th>\n      <th>VendorName</th>\n      <th>PONumber</th>\n      <th>PODate</th>\n      <th>ReceivingDate</th>\n      <th>InvoiceDate</th>\n      <th>PayDate</th>\n      <th>PurchasePrice</th>\n      <th>Quantity</th>\n      <th>Dollars</th>\n      <th>Classification</th>\n    </tr>\n  </thead>\n  <tbody>\n    <tr>\n      <th>0</th>\n      <td>30_CULCHETH_5255</td>\n      <td>30</td>\n      <td>5255</td>\n      <td>TGI Fridays Ultimte Mudslide</td>\n      <td>1.75L</td>\n      <td>4466</td>\n      <td>AMERICAN VINTAGE BEVERAGE</td>\n      <td>8137</td>\n      <td>2023-12-22</td>\n      <td>2024-01-01</td>\n      <td>2024-01-07</td>\n      <td>2024-02-21</td>\n      <td>9.35</td>\n      <td>4</td>\n      <td>37.40</td>\n      <td>1</td>\n    </tr>\n    <tr>\n      <th>1</th>\n      <td>34_PITMERDEN_5215</td>\n      <td>34</td>\n      <td>5215</td>\n      <td>TGI Fridays Long Island Iced</td>\n      <td>1.75L</td>\n      <td>4466</td>\n      <td>AMERICAN VINTAGE BEVERAGE</td>\n      <td>8137</td>\n      <td>2023-12-22</td>\n      <td>2024-01-02</td>\n      <td>2024-01-07</td>\n      <td>2024-02-21</td>\n      <td>9.41</td>\n      <td>5</td>\n      <td>47.05</td>\n      <td>1</td>\n    </tr>\n  </tbody>\n</table>\n</div>",
                        "text/plain": "         InventoryId  Store  Brand                   Description   Size  \\\n0   30_CULCHETH_5255     30   5255  TGI Fridays Ultimte Mudslide  1.75L   \n1  34_PITMERDEN_5215     34   5215  TGI Fridays Long Island Iced  1.75L   \n\n   VendorNumber                   VendorName  PONumber      PODate  \\\n0          4466  AMERICAN VINTAGE BEVERAGE        8137  2023-12-22   \n1          4466  AMERICAN VINTAGE BEVERAGE        8137  2023-12-22   \n\n  ReceivingDate InvoiceDate     PayDate  PurchasePrice  Quantity  Dollars  \\\n0    2024-01-01  2024-01-07  2024-02-21           9.35         4    37.40   \n1    2024-01-02  2024-01-07  2024-02-21           9.41         5    47.05   \n\n   Classification  \n0               1  \n1               1  "
                    },
                    "metadata": {}
                }
            ],
            "execution_count": 18
        },
        {
            "cell_type": "code",
            "source": [
                "purchase_prices.head(2)"
            ],
            "metadata": {
                "azdata_cell_guid": "946d574a-3633-442a-8044-c4ee7412cb73",
                "language": "sql"
            },
            "outputs": [
                {
                    "output_type": "execute_result",
                    "execution_count": 19,
                    "data": {
                        "text/html": "<div>\n<style scoped>\n    .dataframe tbody tr th:only-of-type {\n        vertical-align: middle;\n    }\n\n    .dataframe tbody tr th {\n        vertical-align: top;\n    }\n\n    .dataframe thead th {\n        text-align: right;\n    }\n</style>\n<table border=\"1\" class=\"dataframe\">\n  <thead>\n    <tr style=\"text-align: right;\">\n      <th></th>\n      <th>Brand</th>\n      <th>Description</th>\n      <th>Price</th>\n      <th>Size</th>\n      <th>Volume</th>\n      <th>Classification</th>\n      <th>PurchasePrice</th>\n      <th>VendorNumber</th>\n      <th>VendorName</th>\n    </tr>\n  </thead>\n  <tbody>\n    <tr>\n      <th>0</th>\n      <td>5215</td>\n      <td>TGI Fridays Long Island Iced</td>\n      <td>12.99</td>\n      <td>1750mL</td>\n      <td>1750</td>\n      <td>1</td>\n      <td>9.41</td>\n      <td>4466</td>\n      <td>AMERICAN VINTAGE BEVERAGE</td>\n    </tr>\n    <tr>\n      <th>1</th>\n      <td>5255</td>\n      <td>TGI Fridays Ultimte Mudslide</td>\n      <td>12.99</td>\n      <td>1750mL</td>\n      <td>1750</td>\n      <td>1</td>\n      <td>9.35</td>\n      <td>4466</td>\n      <td>AMERICAN VINTAGE BEVERAGE</td>\n    </tr>\n  </tbody>\n</table>\n</div>",
                        "text/plain": "   Brand                   Description  Price    Size Volume  Classification  \\\n0   5215  TGI Fridays Long Island Iced  12.99  1750mL   1750               1   \n1   5255  TGI Fridays Ultimte Mudslide  12.99  1750mL   1750               1   \n\n   PurchasePrice  VendorNumber                   VendorName  \n0           9.41          4466  AMERICAN VINTAGE BEVERAGE    \n1           9.35          4466  AMERICAN VINTAGE BEVERAGE    "
                    },
                    "metadata": {}
                }
            ],
            "execution_count": 19
        },
        {
            "cell_type": "code",
            "source": [
                "pd.read_sql_query(\"\"\"Select \n",
                "    p.VendorNumber, \n",
                "    p.VendorName, \n",
                "    p.Brand, \n",
                "    p.PurchasePrice,\n",
                "    sum(p.Quantity) as TotalPurchaseQuantity,\n",
                "    sum(p.Dollars) as TotalPurchaseDollars,\n",
                "    pp.Volume,\n",
                "    pp.Price as ActualPrice\n",
                "    from purchases p\n",
                "    \n",
                "    JOIN purchase_prices pp\n",
                "    ON p.Brand = pp.Brand\n",
                "    \n",
                "    wHERE p.PurchasePrice > 0\n",
                "    \n",
                "    GROUP BY p.VendorNumber, p.VendorName, p.Brand\n",
                "    ORDER BY TotalPurchaseDollars\"\"\", conn)"
            ],
            "metadata": {
                "azdata_cell_guid": "3cc4b8f7-0d4c-4e35-b146-459f5f715d35",
                "language": "sql"
            },
            "outputs": [
                {
                    "output_type": "execute_result",
                    "execution_count": 20,
                    "data": {
                        "text/html": "<div>\n<style scoped>\n    .dataframe tbody tr th:only-of-type {\n        vertical-align: middle;\n    }\n\n    .dataframe tbody tr th {\n        vertical-align: top;\n    }\n\n    .dataframe thead th {\n        text-align: right;\n    }\n</style>\n<table border=\"1\" class=\"dataframe\">\n  <thead>\n    <tr style=\"text-align: right;\">\n      <th></th>\n      <th>VendorNumber</th>\n      <th>VendorName</th>\n      <th>Brand</th>\n      <th>PurchasePrice</th>\n      <th>TotalPurchaseQuantity</th>\n      <th>TotalPurchaseDollars</th>\n      <th>Volume</th>\n      <th>ActualPrice</th>\n    </tr>\n  </thead>\n  <tbody>\n    <tr>\n      <th>0</th>\n      <td>7245</td>\n      <td>PROXIMO SPIRITS INC.</td>\n      <td>3065</td>\n      <td>0.71</td>\n      <td>1</td>\n      <td>0.71</td>\n      <td>50</td>\n      <td>0.99</td>\n    </tr>\n    <tr>\n      <th>1</th>\n      <td>3960</td>\n      <td>DIAGEO NORTH AMERICA INC</td>\n      <td>6127</td>\n      <td>1.47</td>\n      <td>1</td>\n      <td>1.47</td>\n      <td>200</td>\n      <td>1.99</td>\n    </tr>\n    <tr>\n      <th>2</th>\n      <td>3924</td>\n      <td>HEAVEN HILL DISTILLERIES</td>\n      <td>9123</td>\n      <td>0.74</td>\n      <td>2</td>\n      <td>1.48</td>\n      <td>50</td>\n      <td>0.99</td>\n    </tr>\n    <tr>\n      <th>3</th>\n      <td>8004</td>\n      <td>SAZERAC CO INC</td>\n      <td>5683</td>\n      <td>0.39</td>\n      <td>6</td>\n      <td>2.34</td>\n      <td>50</td>\n      <td>0.49</td>\n    </tr>\n    <tr>\n      <th>4</th>\n      <td>9815</td>\n      <td>WINE GROUP INC</td>\n      <td>8527</td>\n      <td>1.32</td>\n      <td>2</td>\n      <td>2.64</td>\n      <td>750</td>\n      <td>4.99</td>\n    </tr>\n    <tr>\n      <th>...</th>\n      <td>...</td>\n      <td>...</td>\n      <td>...</td>\n      <td>...</td>\n      <td>...</td>\n      <td>...</td>\n      <td>...</td>\n      <td>...</td>\n    </tr>\n    <tr>\n      <th>10687</th>\n      <td>3960</td>\n      <td>DIAGEO NORTH AMERICA INC</td>\n      <td>3545</td>\n      <td>21.89</td>\n      <td>138109</td>\n      <td>3023206.01</td>\n      <td>1750</td>\n      <td>29.99</td>\n    </tr>\n    <tr>\n      <th>10688</th>\n      <td>3960</td>\n      <td>DIAGEO NORTH AMERICA INC</td>\n      <td>4261</td>\n      <td>16.17</td>\n      <td>201682</td>\n      <td>3261197.94</td>\n      <td>1750</td>\n      <td>22.99</td>\n    </tr>\n    <tr>\n      <th>10689</th>\n      <td>17035</td>\n      <td>PERNOD RICARD USA</td>\n      <td>8068</td>\n      <td>18.24</td>\n      <td>187407</td>\n      <td>3418303.68</td>\n      <td>1750</td>\n      <td>24.99</td>\n    </tr>\n    <tr>\n      <th>10690</th>\n      <td>4425</td>\n      <td>MARTIGNETTI COMPANIES</td>\n      <td>3405</td>\n      <td>23.19</td>\n      <td>164038</td>\n      <td>3804041.22</td>\n      <td>1750</td>\n      <td>28.99</td>\n    </tr>\n    <tr>\n      <th>10691</th>\n      <td>1128</td>\n      <td>BROWN-FORMAN CORP</td>\n      <td>1233</td>\n      <td>26.27</td>\n      <td>145080</td>\n      <td>3811251.60</td>\n      <td>1750</td>\n      <td>36.99</td>\n    </tr>\n  </tbody>\n</table>\n<p>10692 rows × 8 columns</p>\n</div>",
                        "text/plain": "       VendorNumber                   VendorName  Brand  PurchasePrice  \\\n0              7245  PROXIMO SPIRITS INC.          3065           0.71   \n1              3960  DIAGEO NORTH AMERICA INC      6127           1.47   \n2              3924  HEAVEN HILL DISTILLERIES      9123           0.74   \n3              8004  SAZERAC CO INC                5683           0.39   \n4              9815  WINE GROUP INC                8527           1.32   \n...             ...                          ...    ...            ...   \n10687          3960  DIAGEO NORTH AMERICA INC      3545          21.89   \n10688          3960  DIAGEO NORTH AMERICA INC      4261          16.17   \n10689         17035  PERNOD RICARD USA             8068          18.24   \n10690          4425        MARTIGNETTI COMPANIES   3405          23.19   \n10691          1128  BROWN-FORMAN CORP             1233          26.27   \n\n       TotalPurchaseQuantity  TotalPurchaseDollars Volume  ActualPrice  \n0                          1                  0.71     50         0.99  \n1                          1                  1.47    200         1.99  \n2                          2                  1.48     50         0.99  \n3                          6                  2.34     50         0.49  \n4                          2                  2.64    750         4.99  \n...                      ...                   ...    ...          ...  \n10687                 138109            3023206.01   1750        29.99  \n10688                 201682            3261197.94   1750        22.99  \n10689                 187407            3418303.68   1750        24.99  \n10690                 164038            3804041.22   1750        28.99  \n10691                 145080            3811251.60   1750        36.99  \n\n[10692 rows x 8 columns]"
                    },
                    "metadata": {}
                }
            ],
            "execution_count": 20
        },
        {
            "cell_type": "code",
            "source": [
                "sales.head(2)"
            ],
            "metadata": {
                "azdata_cell_guid": "51f78176-fb5e-4970-8980-70e13a3068f7",
                "language": "sql"
            },
            "outputs": [
                {
                    "output_type": "execute_result",
                    "execution_count": 21,
                    "data": {
                        "text/html": "<div>\n<style scoped>\n    .dataframe tbody tr th:only-of-type {\n        vertical-align: middle;\n    }\n\n    .dataframe tbody tr th {\n        vertical-align: top;\n    }\n\n    .dataframe thead th {\n        text-align: right;\n    }\n</style>\n<table border=\"1\" class=\"dataframe\">\n  <thead>\n    <tr style=\"text-align: right;\">\n      <th></th>\n      <th>InventoryId</th>\n      <th>Store</th>\n      <th>Brand</th>\n      <th>Description</th>\n      <th>Size</th>\n      <th>SalesQuantity</th>\n      <th>SalesDollars</th>\n      <th>SalesPrice</th>\n      <th>SalesDate</th>\n      <th>Volume</th>\n      <th>Classification</th>\n      <th>ExciseTax</th>\n      <th>VendorNo</th>\n      <th>VendorName</th>\n    </tr>\n  </thead>\n  <tbody>\n    <tr>\n      <th>0</th>\n      <td>1_HARDERSFIELD_5215</td>\n      <td>1</td>\n      <td>5215</td>\n      <td>TGI Fridays Long Island Iced</td>\n      <td>1.75L</td>\n      <td>1</td>\n      <td>12.99</td>\n      <td>12.99</td>\n      <td>2024-01-09</td>\n      <td>1750.0</td>\n      <td>1</td>\n      <td>1.84</td>\n      <td>4466</td>\n      <td>AMERICAN VINTAGE BEVERAGE</td>\n    </tr>\n    <tr>\n      <th>1</th>\n      <td>1_HARDERSFIELD_5215</td>\n      <td>1</td>\n      <td>5215</td>\n      <td>TGI Fridays Long Island Iced</td>\n      <td>1.75L</td>\n      <td>1</td>\n      <td>12.99</td>\n      <td>12.99</td>\n      <td>2024-01-12</td>\n      <td>1750.0</td>\n      <td>1</td>\n      <td>1.84</td>\n      <td>4466</td>\n      <td>AMERICAN VINTAGE BEVERAGE</td>\n    </tr>\n  </tbody>\n</table>\n</div>",
                        "text/plain": "           InventoryId  Store  Brand                   Description   Size  \\\n0  1_HARDERSFIELD_5215      1   5215  TGI Fridays Long Island Iced  1.75L   \n1  1_HARDERSFIELD_5215      1   5215  TGI Fridays Long Island Iced  1.75L   \n\n   SalesQuantity  SalesDollars  SalesPrice   SalesDate  Volume  \\\n0              1         12.99       12.99  2024-01-09  1750.0   \n1              1         12.99       12.99  2024-01-12  1750.0   \n\n   Classification  ExciseTax  VendorNo                   VendorName  \n0               1       1.84      4466  AMERICAN VINTAGE BEVERAGE    \n1               1       1.84      4466  AMERICAN VINTAGE BEVERAGE    "
                    },
                    "metadata": {}
                }
            ],
            "execution_count": 21
        },
        {
            "cell_type": "code",
            "source": [
                "pd.read_sql_query(\"\"\"SELECT\n",
                "    VendorNo,\n",
                "    Brand,\n",
                "    SUM(SalesQuantity) as TotalSalesQuantity,\n",
                "    SUM(SalesDollars) as TotalSalesDollars,\n",
                "    SUM(SalesPrice) as TotalSalesPrice,\n",
                "    SUM(ExciseTax) as TotalExciseTax\n",
                "    FROM sales\n",
                "    \n",
                "    GROUP BY VendorNo, Brand\n",
                "    ORDER by TotalSalesDollars\"\"\", conn)"
            ],
            "metadata": {
                "azdata_cell_guid": "8bb69e2b-5513-4f6c-91e1-4ab3846f6b43",
                "language": "sql"
            },
            "outputs": [
                {
                    "output_type": "execute_result",
                    "execution_count": 22,
                    "data": {
                        "text/html": "<div>\n<style scoped>\n    .dataframe tbody tr th:only-of-type {\n        vertical-align: middle;\n    }\n\n    .dataframe tbody tr th {\n        vertical-align: top;\n    }\n\n    .dataframe thead th {\n        text-align: right;\n    }\n</style>\n<table border=\"1\" class=\"dataframe\">\n  <thead>\n    <tr style=\"text-align: right;\">\n      <th></th>\n      <th>VendorNo</th>\n      <th>Brand</th>\n      <th>TotalSalesQuantity</th>\n      <th>TotalSalesDollars</th>\n      <th>TotalSalesPrice</th>\n      <th>TotalExciseTax</th>\n    </tr>\n  </thead>\n  <tbody>\n    <tr>\n      <th>0</th>\n      <td>8004</td>\n      <td>5287</td>\n      <td>2</td>\n      <td>0.98</td>\n      <td>0.98</td>\n      <td>0.10</td>\n    </tr>\n    <tr>\n      <th>1</th>\n      <td>9206</td>\n      <td>2773</td>\n      <td>1</td>\n      <td>0.99</td>\n      <td>0.99</td>\n      <td>0.05</td>\n    </tr>\n    <tr>\n      <th>2</th>\n      <td>3252</td>\n      <td>3933</td>\n      <td>2</td>\n      <td>1.98</td>\n      <td>0.99</td>\n      <td>0.10</td>\n    </tr>\n    <tr>\n      <th>3</th>\n      <td>3924</td>\n      <td>9123</td>\n      <td>2</td>\n      <td>1.98</td>\n      <td>0.99</td>\n      <td>0.10</td>\n    </tr>\n    <tr>\n      <th>4</th>\n      <td>10050</td>\n      <td>3623</td>\n      <td>2</td>\n      <td>1.98</td>\n      <td>1.98</td>\n      <td>0.10</td>\n    </tr>\n    <tr>\n      <th>...</th>\n      <td>...</td>\n      <td>...</td>\n      <td>...</td>\n      <td>...</td>\n      <td>...</td>\n      <td>...</td>\n    </tr>\n    <tr>\n      <th>11267</th>\n      <td>3960</td>\n      <td>3545</td>\n      <td>135838</td>\n      <td>4223107.62</td>\n      <td>545778.28</td>\n      <td>249587.83</td>\n    </tr>\n    <tr>\n      <th>11268</th>\n      <td>3960</td>\n      <td>4261</td>\n      <td>200412</td>\n      <td>4475972.88</td>\n      <td>420050.01</td>\n      <td>368242.80</td>\n    </tr>\n    <tr>\n      <th>11269</th>\n      <td>17035</td>\n      <td>8068</td>\n      <td>187140</td>\n      <td>4538120.60</td>\n      <td>461140.15</td>\n      <td>343854.07</td>\n    </tr>\n    <tr>\n      <th>11270</th>\n      <td>4425</td>\n      <td>3405</td>\n      <td>160247</td>\n      <td>4819073.49</td>\n      <td>561512.37</td>\n      <td>294438.66</td>\n    </tr>\n    <tr>\n      <th>11271</th>\n      <td>1128</td>\n      <td>1233</td>\n      <td>142049</td>\n      <td>5101919.51</td>\n      <td>672819.31</td>\n      <td>260999.20</td>\n    </tr>\n  </tbody>\n</table>\n<p>11272 rows × 6 columns</p>\n</div>",
                        "text/plain": "       VendorNo  Brand  TotalSalesQuantity  TotalSalesDollars  \\\n0          8004   5287                   2               0.98   \n1          9206   2773                   1               0.99   \n2          3252   3933                   2               1.98   \n3          3924   9123                   2               1.98   \n4         10050   3623                   2               1.98   \n...         ...    ...                 ...                ...   \n11267      3960   3545              135838         4223107.62   \n11268      3960   4261              200412         4475972.88   \n11269     17035   8068              187140         4538120.60   \n11270      4425   3405              160247         4819073.49   \n11271      1128   1233              142049         5101919.51   \n\n       TotalSalesPrice  TotalExciseTax  \n0                 0.98            0.10  \n1                 0.99            0.05  \n2                 0.99            0.10  \n3                 0.99            0.10  \n4                 1.98            0.10  \n...                ...             ...  \n11267        545778.28       249587.83  \n11268        420050.01       368242.80  \n11269        461140.15       343854.07  \n11270        561512.37       294438.66  \n11271        672819.31       260999.20  \n\n[11272 rows x 6 columns]"
                    },
                    "metadata": {}
                }
            ],
            "execution_count": 22
        },
        {
            "cell_type": "code",
            "source": [
                "summary_table = pd.read_sql_query(\"\"\"WITH FreightSummary as(\n",
                "    SELECT\n",
                "        VendorNumber,\n",
                "        SUM(Freight) as FreightCost\n",
                "    FROM vendor_invoice\n",
                "    GROUP BY VendorName\n",
                "),\n",
                "\n",
                "PurchaseSummary as (\n",
                "    SELECT\n",
                "        p.VendorNumber,\n",
                "        p.VendorName,\n",
                "        p.Brand,\n",
                "        p.Description,\n",
                "        p.PurchasePrice,\n",
                "        pp.Price as ActualPrice,\n",
                "        pp.Volume,\n",
                "        SUM(p.Quantity) as TotalPurchaseQuantity,\n",
                "        SUM(p.Dollars) as TotalPurchaseDollars\n",
                "    FROM purchases p\n",
                "    JOIN purchase_prices pp\n",
                "        ON p.Brand = pp.Brand\n",
                "    WHERE p.PurchasePrice > 0\n",
                "    GROUP BY p.VendorNumber,p.VendorName, p.Brand, p.Description, p.PurchasePrice, pp.Price, pp.Volume\n",
                "),\n",
                "    \n",
                "salesSummary as(\n",
                "    SELECT\n",
                "        VendorNo,\n",
                "        Brand,\n",
                "        SUM(SalesQuantity) as TotalSalesQuantity,\n",
                "        SUM(SalesDollars) as TotalSalesDollars,\n",
                "        SUM(SalesPrice) as TotalSalesPrice,\n",
                "        SUM(ExciseTax) as TotalExciseTax\n",
                "    FROM sales\n",
                "    GROUP BY VendorNO, Brand\n",
                ")\n",
                "\n",
                "SELECT\n",
                "    ps.VendorNumber,\n",
                "    ps.VendorName,\n",
                "    ps.Brand,\n",
                "    ps.Description,\n",
                "    ps.PurchasePrice,\n",
                "    ps.ActualPrice,\n",
                "    ps.Volume,\n",
                "    ps.TotalPurchaseQuantity,\n",
                "    ps.TotalPurchaseDollars,\n",
                "    ss.TotalSalesQuantity,\n",
                "    ss.TotalSalesDollars,\n",
                "    ss.TotalSalesPrice,\n",
                "    ss.TotalExciseTax,\n",
                "    fs.FreightCost\n",
                "    \n",
                "FROM PurchaseSummary ps\n",
                "LEFT JOIN \n",
                "salesSummary ss\n",
                "    ON ps.VendorNumber = ss.VendorNO\n",
                "    AND ps.Brand = ss.Brand\n",
                "LEFT JOIN\n",
                "FreightSummary fs\n",
                "    ON ps.VendorNumber = fs.VendorNumber\n",
                "ORDER BY ps.TotalPurchaseDollars DESC\"\"\", conn)"
            ],
            "metadata": {
                "azdata_cell_guid": "8c2a96ba-83ff-46ec-8c48-5a202b4a65a9",
                "language": "sql"
            },
            "outputs": [],
            "execution_count": 23
        },
        {
            "cell_type": "code",
            "source": [
                "summary_table.head()"
            ],
            "metadata": {
                "azdata_cell_guid": "818a4cd6-c09f-4cb9-8de5-6fea939f0329",
                "language": "sql"
            },
            "outputs": [
                {
                    "output_type": "execute_result",
                    "execution_count": 24,
                    "data": {
                        "text/html": "<div>\n<style scoped>\n    .dataframe tbody tr th:only-of-type {\n        vertical-align: middle;\n    }\n\n    .dataframe tbody tr th {\n        vertical-align: top;\n    }\n\n    .dataframe thead th {\n        text-align: right;\n    }\n</style>\n<table border=\"1\" class=\"dataframe\">\n  <thead>\n    <tr style=\"text-align: right;\">\n      <th></th>\n      <th>VendorNumber</th>\n      <th>VendorName</th>\n      <th>Brand</th>\n      <th>Description</th>\n      <th>PurchasePrice</th>\n      <th>ActualPrice</th>\n      <th>Volume</th>\n      <th>TotalPurchaseQuantity</th>\n      <th>TotalPurchaseDollars</th>\n      <th>TotalSalesQuantity</th>\n      <th>TotalSalesDollars</th>\n      <th>TotalSalesPrice</th>\n      <th>TotalExciseTax</th>\n      <th>FreightCost</th>\n    </tr>\n  </thead>\n  <tbody>\n    <tr>\n      <th>0</th>\n      <td>1128</td>\n      <td>BROWN-FORMAN CORP</td>\n      <td>1233</td>\n      <td>Jack Daniels No 7 Black</td>\n      <td>26.27</td>\n      <td>36.99</td>\n      <td>1750</td>\n      <td>145080</td>\n      <td>3811251.60</td>\n      <td>142049.0</td>\n      <td>5101919.51</td>\n      <td>672819.31</td>\n      <td>260999.20</td>\n      <td>68601.68</td>\n    </tr>\n    <tr>\n      <th>1</th>\n      <td>4425</td>\n      <td>MARTIGNETTI COMPANIES</td>\n      <td>3405</td>\n      <td>Tito's Handmade Vodka</td>\n      <td>23.19</td>\n      <td>28.99</td>\n      <td>1750</td>\n      <td>164038</td>\n      <td>3804041.22</td>\n      <td>160247.0</td>\n      <td>4819073.49</td>\n      <td>561512.37</td>\n      <td>294438.66</td>\n      <td>209.32</td>\n    </tr>\n    <tr>\n      <th>2</th>\n      <td>4425</td>\n      <td>MARTIGNETTI COMPANIES</td>\n      <td>3405</td>\n      <td>Tito's Handmade Vodka</td>\n      <td>23.19</td>\n      <td>28.99</td>\n      <td>1750</td>\n      <td>164038</td>\n      <td>3804041.22</td>\n      <td>160247.0</td>\n      <td>4819073.49</td>\n      <td>561512.37</td>\n      <td>294438.66</td>\n      <td>144719.92</td>\n    </tr>\n    <tr>\n      <th>3</th>\n      <td>17035</td>\n      <td>PERNOD RICARD USA</td>\n      <td>8068</td>\n      <td>Absolut 80 Proof</td>\n      <td>18.24</td>\n      <td>24.99</td>\n      <td>1750</td>\n      <td>187407</td>\n      <td>3418303.68</td>\n      <td>187140.0</td>\n      <td>4538120.60</td>\n      <td>461140.15</td>\n      <td>343854.07</td>\n      <td>123780.22</td>\n    </tr>\n    <tr>\n      <th>4</th>\n      <td>3960</td>\n      <td>DIAGEO NORTH AMERICA INC</td>\n      <td>4261</td>\n      <td>Capt Morgan Spiced Rum</td>\n      <td>16.17</td>\n      <td>22.99</td>\n      <td>1750</td>\n      <td>201682</td>\n      <td>3261197.94</td>\n      <td>200412.0</td>\n      <td>4475972.88</td>\n      <td>420050.01</td>\n      <td>368242.80</td>\n      <td>257032.07</td>\n    </tr>\n  </tbody>\n</table>\n</div>",
                        "text/plain": "   VendorNumber                   VendorName  Brand              Description  \\\n0          1128  BROWN-FORMAN CORP             1233  Jack Daniels No 7 Black   \n1          4425        MARTIGNETTI COMPANIES   3405    Tito's Handmade Vodka   \n2          4425        MARTIGNETTI COMPANIES   3405    Tito's Handmade Vodka   \n3         17035  PERNOD RICARD USA             8068         Absolut 80 Proof   \n4          3960  DIAGEO NORTH AMERICA INC      4261   Capt Morgan Spiced Rum   \n\n   PurchasePrice  ActualPrice Volume  TotalPurchaseQuantity  \\\n0          26.27        36.99   1750                 145080   \n1          23.19        28.99   1750                 164038   \n2          23.19        28.99   1750                 164038   \n3          18.24        24.99   1750                 187407   \n4          16.17        22.99   1750                 201682   \n\n   TotalPurchaseDollars  TotalSalesQuantity  TotalSalesDollars  \\\n0            3811251.60            142049.0         5101919.51   \n1            3804041.22            160247.0         4819073.49   \n2            3804041.22            160247.0         4819073.49   \n3            3418303.68            187140.0         4538120.60   \n4            3261197.94            200412.0         4475972.88   \n\n   TotalSalesPrice  TotalExciseTax  FreightCost  \n0        672819.31       260999.20     68601.68  \n1        561512.37       294438.66       209.32  \n2        561512.37       294438.66    144719.92  \n3        461140.15       343854.07    123780.22  \n4        420050.01       368242.80    257032.07  "
                    },
                    "metadata": {}
                }
            ],
            "execution_count": 24
        },
        {
            "cell_type": "markdown",
            "source": [
                "# \n",
                "This query generates a vendor-wise sales and purchase summary, which is valuable for:\n",
                "    \n",
                "Performance Optimization:\n",
                "\n",
                "* The query involves heavy joins and aggregations on large datasets like sales and purchases.\n",
                "* Storing the pre-aggregated results avoids repeated expensive computations.\n",
                "* Helps in analyzing sales, purchses and pricing for different vendors and brands.\n",
                "* Future Benefits of Storing this data for faster Dashboarding and Reporting.\n",
                "* Instead of running expensive queries each time, dashboards can fetch data quickly from summary_table"
            ],
            "metadata": {
                "azdata_cell_guid": "1f1d102f-3db2-4a10-9aee-8c1951240871"
            }
        },
        {
            "cell_type": "code",
            "source": [
                "summary_table.dtypes"
            ],
            "metadata": {
                "azdata_cell_guid": "334e3f18-b423-4c9d-8ed7-e161977720c1",
                "language": "sql"
            },
            "outputs": [
                {
                    "output_type": "execute_result",
                    "execution_count": 25,
                    "data": {
                        "text/plain": "VendorNumber               int64\nVendorName                object\nBrand                      int64\nDescription               object\nPurchasePrice            float64\nActualPrice              float64\nVolume                    object\nTotalPurchaseQuantity      int64\nTotalPurchaseDollars     float64\nTotalSalesQuantity       float64\nTotalSalesDollars        float64\nTotalSalesPrice          float64\nTotalExciseTax           float64\nFreightCost              float64\ndtype: object"
                    },
                    "metadata": {}
                }
            ],
            "execution_count": 25
        },
        {
            "cell_type": "code",
            "source": [
                "summary_table.isnull().sum()"
            ],
            "metadata": {
                "azdata_cell_guid": "d38d2fa1-829f-4fe3-8aeb-d0cde945ddc3",
                "language": "sql"
            },
            "outputs": [
                {
                    "output_type": "execute_result",
                    "execution_count": 26,
                    "data": {
                        "text/plain": "VendorNumber               0\nVendorName                 0\nBrand                      0\nDescription                0\nPurchasePrice              0\nActualPrice                0\nVolume                     0\nTotalPurchaseQuantity      0\nTotalPurchaseDollars       0\nTotalSalesQuantity       209\nTotalSalesDollars        209\nTotalSalesPrice          209\nTotalExciseTax           209\nFreightCost                0\ndtype: int64"
                    },
                    "metadata": {}
                }
            ],
            "execution_count": 26
        },
        {
            "cell_type": "code",
            "source": [
                "summary_table['VendorName'].unique()"
            ],
            "metadata": {
                "azdata_cell_guid": "9b0bceb5-0df8-4fd2-a062-f570ec9eea73",
                "language": "sql"
            },
            "outputs": [
                {
                    "output_type": "execute_result",
                    "execution_count": 27,
                    "data": {
                        "text/plain": "array(['BROWN-FORMAN CORP          ', 'MARTIGNETTI COMPANIES',\n       'PERNOD RICARD USA          ', 'DIAGEO NORTH AMERICA INC   ',\n       'BACARDI USA INC            ', 'JIM BEAM BRANDS COMPANY    ',\n       'MAJESTIC FINE WINES        ', 'ULTRA BEVERAGE COMPANY LLP ',\n       'STOLI GROUP,(USA) LLC      ', 'PROXIMO SPIRITS INC.       ',\n       'MOET HENNESSY USA INC      ', 'CAMPARI AMERICA            ',\n       'SAZERAC CO INC             ', 'CONSTELLATION BRANDS INC   ',\n       'M S WALKER INC             ', 'SAZERAC NORTH AMERICA INC. ',\n       'PALM BAY INTERNATIONAL INC ', 'REMY COINTREAU USA INC     ',\n       'SIDNEY FRANK IMPORTING CO  ', 'E & J GALLO WINERY         ',\n       'WILLIAM GRANT & SONS INC   ', 'HEAVEN HILL DISTILLERIES   ',\n       'DISARONNO INTERNATIONAL LLC', 'EDRINGTON AMERICAS         ',\n       'CASTLE BRANDS CORP.        ', 'SOUTHERN WINE & SPIRITS NE ',\n       'STE MICHELLE WINE ESTATES  ', 'TRINCHERO FAMILY ESTATES   ',\n       'MHW LTD                    ', 'WINE GROUP INC             ',\n       'PERFECTA WINES             ', 'LUXCO INC                  ',\n       'TREASURY WINE ESTATES      ', 'DIAGEO CHATEAU ESTATE WINES',\n       'SHAW ROSS INT L IMP LTD    ', 'PINE STATE TRADING CO      ',\n       'PHILLIPS PRODUCTS CO.      ', 'CALEDONIA SPIRITS INC      ',\n       'STATE WINE & SPIRITS   ', 'KOBRAND CORPORATION        ',\n       'BANFI PRODUCTS CORP        ', 'VINEYARD BRANDS INC        ',\n       'DELICATO VINEYARDS INC     ', 'FABRIZIA SPIRITS LLC       ',\n       'DUGGANS DISTILLED PRODUCTS ', 'Serralles Usa LLC          ',\n       'SEA HAGG DISTILLERY LLC    ', 'OLE SMOKY DISTILLERY LLC   ',\n       'VRANKEN AMERICA            ', 'KLIN SPIRITS LLC           ',\n       'LAIRD & CO                 ', 'ADAMBA IMPORTS INTL INC    ',\n       'LATITUDE BEVERAGE COMPANY  ', 'FREDERICK WILDMAN & SONS   ',\n       'MCCORMICK DISTILLING CO    ', 'CHARLES JACQUIN ET CIE INC ',\n       'WESTERN SPIRITS BEVERAGE CO', 'MARSALLE COMPANY           ',\n       'AMERICAN VINTAGE BEVERAGE  ', 'MANGO BOTTLING INC         ',\n       'SWEET BABY VINEYARD        ', 'NICHE W & S                ',\n       'LABELLE VYDS AND WINERY    ', 'FLAG HILL WINERY & VINEYARD',\n       'SMOKY QUARTZ DISTILLERY LLC', 'PREMIUM PORT WINES, INC.   ',\n       'Russian Standard Vodka     ', 'Dunn Wine Brokers          ',\n       'WEIN BAUER INC             ', 'BULLY BOY DISTILLERS       ',\n       'ATLANTIC IMPORTING COMPANY ', 'PREMIER DISTRIBUTORS       ',\n       'VINILANDIA USA             ', 'PARK STREET IMPORTS LLC    ',\n       'TAKARA SAKE USA INC        ', 'SEA BREEZE CELLARS LLC     ',\n       'STARK BREWING COMPANY      ', 'TY KU LLC                  ',\n       'PSP WINES ', 'TAMWORTH DISTILLING        ',\n       'ZORVINO VINEYARDS          ', 'SOUTHERN GLAZERS W&S OF NE ',\n       'HOOD RIVER DISTILLERS, Inc.', 'CRUSH WINES                ',\n       'POVERTY LANE ORCHARDS      ', 'DJINN SPIRITS LLC          ',\n       'MOONLIGHT MEADERY          ', 'TALL SHIP DISTILLERY LLC   ',\n       'FORTUNE WINE BROKERS LLC   ', 'BLACK COVE BEVERAGES       ',\n       'VINEXTRA INC               ', 'SURVILLE ENTERPRISES CORP  ',\n       'JEWELL TOWNE VINEYARDS     ', 'SWEETWATER FARM         ',\n       'MARTIGNETTI COMPANIES ', 'ALTAMAR BRANDS LLC         ',\n       'CANDIA VINEYARDS           ', 'INCREDIBREW INC            ',\n       'ALISA CARR BEVERAGES           ', 'STELLAR IMPORTING CO LLC   ',\n       'FULCHINO VINEYARD INC      ',\n       'IRA GOLDMAN AND WILLIAMS, LLP          ',\n       'Circa Wines                ', 'VINEDREA WINES LLC         ',\n       'BLACK PRINCE DISTILLERY INC', 'VINEYARD BRANDS LLC        ',\n       'THE IMPORTED GRAPE LLC     ', 'WALPOLE MTN VIEW WINERY    ',\n       'GILMANTON WINERY & VINEYARD', 'HAUNTING WHISPER VYDS      ',\n       'STAR INDUSTRIES INC.       ', 'LOYAL DOG WINERY           ',\n       'R.P.IMPORTS INC            ', 'THE PIERPONT GROUP LLC     ',\n       'APPOLO VINEYARDS LLC       ', 'BLACK ROCK SPIRITS LLC     ',\n       'CENTEUR IMPORTS LLC        ', 'HIGHLAND WINE MERCHANTS LLC',\n       'AMERICAN SPIRITS EXCHANGE  ', 'UNCORKED       ',\n       'BRONCO WINE COMPANY        ', 'MILTONS DISTRIBUTING CO    ',\n       'TRUETT HURST               ', 'LAUREATE IMPORTS CO        ',\n       'FANTASY FINE WINES CORP    ', 'AAPER ALCOHOL & CHEMICAL CO',\n       'SILVER MOUNTAIN CIDERS     ', 'CAPSTONE INTERNATIONAL     ',\n       'FLAVOR ESSENCE INC         '], dtype=object)"
                    },
                    "metadata": {}
                }
            ],
            "execution_count": 27
        },
        {
            "cell_type": "code",
            "source": [
                "summary_table['Volume'] = summary_table['Volume'].astype('float')"
            ],
            "metadata": {
                "azdata_cell_guid": "894882ca-2aec-47bc-857b-ef20529dd80e",
                "language": "sql"
            },
            "outputs": [],
            "execution_count": 28
        },
        {
            "cell_type": "code",
            "source": [
                "summary_table.fillna(0, inplace=True)"
            ],
            "metadata": {
                "azdata_cell_guid": "0099f81f-aaaa-425d-acbf-4b89cd0a7dc8",
                "language": "sql"
            },
            "outputs": [],
            "execution_count": 29
        },
        {
            "cell_type": "code",
            "source": [
                "summary_table['VendorName'] = summary_table['VendorName'].str.strip()"
            ],
            "metadata": {
                "azdata_cell_guid": "94513bf6-0fa2-4eaa-a260-75ee763f5ce0",
                "language": "sql"
            },
            "outputs": [],
            "execution_count": 30
        },
        {
            "cell_type": "code",
            "source": [
                "summary_table['VendorName'].unique()"
            ],
            "metadata": {
                "azdata_cell_guid": "726659b7-38c7-4666-b0c6-58cf476b1879",
                "language": "sql"
            },
            "outputs": [
                {
                    "output_type": "execute_result",
                    "execution_count": 31,
                    "data": {
                        "text/plain": "array(['BROWN-FORMAN CORP', 'MARTIGNETTI COMPANIES', 'PERNOD RICARD USA',\n       'DIAGEO NORTH AMERICA INC', 'BACARDI USA INC',\n       'JIM BEAM BRANDS COMPANY', 'MAJESTIC FINE WINES',\n       'ULTRA BEVERAGE COMPANY LLP', 'STOLI GROUP,(USA) LLC',\n       'PROXIMO SPIRITS INC.', 'MOET HENNESSY USA INC', 'CAMPARI AMERICA',\n       'SAZERAC CO INC', 'CONSTELLATION BRANDS INC', 'M S WALKER INC',\n       'SAZERAC NORTH AMERICA INC.', 'PALM BAY INTERNATIONAL INC',\n       'REMY COINTREAU USA INC', 'SIDNEY FRANK IMPORTING CO',\n       'E & J GALLO WINERY', 'WILLIAM GRANT & SONS INC',\n       'HEAVEN HILL DISTILLERIES', 'DISARONNO INTERNATIONAL LLC',\n       'EDRINGTON AMERICAS', 'CASTLE BRANDS CORP.',\n       'SOUTHERN WINE & SPIRITS NE', 'STE MICHELLE WINE ESTATES',\n       'TRINCHERO FAMILY ESTATES', 'MHW LTD', 'WINE GROUP INC',\n       'PERFECTA WINES', 'LUXCO INC', 'TREASURY WINE ESTATES',\n       'DIAGEO CHATEAU ESTATE WINES', 'SHAW ROSS INT L IMP LTD',\n       'PINE STATE TRADING CO', 'PHILLIPS PRODUCTS CO.',\n       'CALEDONIA SPIRITS INC', 'STATE WINE & SPIRITS',\n       'KOBRAND CORPORATION', 'BANFI PRODUCTS CORP',\n       'VINEYARD BRANDS INC', 'DELICATO VINEYARDS INC',\n       'FABRIZIA SPIRITS LLC', 'DUGGANS DISTILLED PRODUCTS',\n       'Serralles Usa LLC', 'SEA HAGG DISTILLERY LLC',\n       'OLE SMOKY DISTILLERY LLC', 'VRANKEN AMERICA', 'KLIN SPIRITS LLC',\n       'LAIRD & CO', 'ADAMBA IMPORTS INTL INC',\n       'LATITUDE BEVERAGE COMPANY', 'FREDERICK WILDMAN & SONS',\n       'MCCORMICK DISTILLING CO', 'CHARLES JACQUIN ET CIE INC',\n       'WESTERN SPIRITS BEVERAGE CO', 'MARSALLE COMPANY',\n       'AMERICAN VINTAGE BEVERAGE', 'MANGO BOTTLING INC',\n       'SWEET BABY VINEYARD', 'NICHE W & S', 'LABELLE VYDS AND WINERY',\n       'FLAG HILL WINERY & VINEYARD', 'SMOKY QUARTZ DISTILLERY LLC',\n       'PREMIUM PORT WINES, INC.', 'Russian Standard Vodka',\n       'Dunn Wine Brokers', 'WEIN BAUER INC', 'BULLY BOY DISTILLERS',\n       'ATLANTIC IMPORTING COMPANY', 'PREMIER DISTRIBUTORS',\n       'VINILANDIA USA', 'PARK STREET IMPORTS LLC', 'TAKARA SAKE USA INC',\n       'SEA BREEZE CELLARS LLC', 'STARK BREWING COMPANY', 'TY KU LLC',\n       'PSP WINES', 'TAMWORTH DISTILLING', 'ZORVINO VINEYARDS',\n       'SOUTHERN GLAZERS W&S OF NE', 'HOOD RIVER DISTILLERS, Inc.',\n       'CRUSH WINES', 'POVERTY LANE ORCHARDS', 'DJINN SPIRITS LLC',\n       'MOONLIGHT MEADERY', 'TALL SHIP DISTILLERY LLC',\n       'FORTUNE WINE BROKERS LLC', 'BLACK COVE BEVERAGES', 'VINEXTRA INC',\n       'SURVILLE ENTERPRISES CORP', 'JEWELL TOWNE VINEYARDS',\n       'SWEETWATER FARM', 'ALTAMAR BRANDS LLC', 'CANDIA VINEYARDS',\n       'INCREDIBREW INC', 'ALISA CARR BEVERAGES',\n       'STELLAR IMPORTING CO LLC', 'FULCHINO VINEYARD INC',\n       'IRA GOLDMAN AND WILLIAMS, LLP', 'Circa Wines',\n       'VINEDREA WINES LLC', 'BLACK PRINCE DISTILLERY INC',\n       'VINEYARD BRANDS LLC', 'THE IMPORTED GRAPE LLC',\n       'WALPOLE MTN VIEW WINERY', 'GILMANTON WINERY & VINEYARD',\n       'HAUNTING WHISPER VYDS', 'STAR INDUSTRIES INC.',\n       'LOYAL DOG WINERY', 'R.P.IMPORTS INC', 'THE PIERPONT GROUP LLC',\n       'APPOLO VINEYARDS LLC', 'BLACK ROCK SPIRITS LLC',\n       'CENTEUR IMPORTS LLC', 'HIGHLAND WINE MERCHANTS LLC',\n       'AMERICAN SPIRITS EXCHANGE', 'UNCORKED', 'BRONCO WINE COMPANY',\n       'MILTONS DISTRIBUTING CO', 'TRUETT HURST', 'LAUREATE IMPORTS CO',\n       'FANTASY FINE WINES CORP', 'AAPER ALCOHOL & CHEMICAL CO',\n       'SILVER MOUNTAIN CIDERS', 'CAPSTONE INTERNATIONAL',\n       'FLAVOR ESSENCE INC'], dtype=object)"
                    },
                    "metadata": {}
                }
            ],
            "execution_count": 31
        },
        {
            "cell_type": "code",
            "source": [
                "summary_table.isnull().sum()"
            ],
            "metadata": {
                "azdata_cell_guid": "2d260266-6309-4b5f-9cea-de07084eb3fc",
                "language": "sql"
            },
            "outputs": [
                {
                    "output_type": "execute_result",
                    "execution_count": 32,
                    "data": {
                        "text/plain": "VendorNumber             0\nVendorName               0\nBrand                    0\nDescription              0\nPurchasePrice            0\nActualPrice              0\nVolume                   0\nTotalPurchaseQuantity    0\nTotalPurchaseDollars     0\nTotalSalesQuantity       0\nTotalSalesDollars        0\nTotalSalesPrice          0\nTotalExciseTax           0\nFreightCost              0\ndtype: int64"
                    },
                    "metadata": {}
                }
            ],
            "execution_count": 32
        },
        {
            "cell_type": "code",
            "source": [
                "summary_table.dtypes"
            ],
            "metadata": {
                "azdata_cell_guid": "792d3388-e4d3-4e74-854d-582cf3274b90",
                "language": "sql"
            },
            "outputs": [
                {
                    "output_type": "execute_result",
                    "execution_count": 33,
                    "data": {
                        "text/plain": "VendorNumber               int64\nVendorName                object\nBrand                      int64\nDescription               object\nPurchasePrice            float64\nActualPrice              float64\nVolume                   float64\nTotalPurchaseQuantity      int64\nTotalPurchaseDollars     float64\nTotalSalesQuantity       float64\nTotalSalesDollars        float64\nTotalSalesPrice          float64\nTotalExciseTax           float64\nFreightCost              float64\ndtype: object"
                    },
                    "metadata": {}
                }
            ],
            "execution_count": 33
        },
        {
            "cell_type": "markdown",
            "source": [
                "## Creating some columns"
            ],
            "metadata": {
                "azdata_cell_guid": "4fc51a1e-1f39-4987-ba0b-9d7ba3f61c62"
            }
        },
        {
            "cell_type": "code",
            "source": [
                "summary_table['GrossProfit'] = summary_table['TotalSalesDollars'] - summary_table['TotalPurchaseDollars']"
            ],
            "metadata": {
                "azdata_cell_guid": "4a86aba0-9366-4584-8a03-a559000f5edf",
                "language": "sql"
            },
            "outputs": [],
            "execution_count": 34
        },
        {
            "cell_type": "code",
            "source": [
                "summary_table['ProfitMargin'] = (summary_table['GrossProfit'] / summary_table['TotalSalesDollars'])*100"
            ],
            "metadata": {
                "azdata_cell_guid": "9da069c7-21d5-44a7-8344-085cecc5c769",
                "language": "sql"
            },
            "outputs": [],
            "execution_count": 35
        },
        {
            "cell_type": "code",
            "source": [
                "summary_table['StockTurnover'] = summary_table['TotalSalesQuantity'] / summary_table['TotalPurchaseQuantity']"
            ],
            "metadata": {
                "azdata_cell_guid": "cf77ba74-469c-4ca6-8edb-325711ff460c",
                "language": "sql"
            },
            "outputs": [],
            "execution_count": 36
        },
        {
            "cell_type": "code",
            "source": [
                "summary_table['SalestoPurchaseRatio'] = summary_table['TotalSalesDollars'] / summary_table['TotalPurchaseDollars']"
            ],
            "metadata": {
                "azdata_cell_guid": "4d0b2157-21c1-4b81-8b1f-1e3e5d2b0557",
                "language": "sql"
            },
            "outputs": [],
            "execution_count": 37
        },
        {
            "cell_type": "markdown",
            "source": [
                "### Now to save these new columns we need to save them by creating an empty table"
            ],
            "metadata": {
                "azdata_cell_guid": "3122821f-74bf-480f-8d1a-68b0ad4a2ca0"
            }
        },
        {
            "cell_type": "code",
            "source": [
                "cursor = conn.cursor()"
            ],
            "metadata": {
                "azdata_cell_guid": "0a551a8d-44b4-4bb3-9e9f-aebce4a8da1c",
                "language": "sql"
            },
            "outputs": [],
            "execution_count": 38
        },
        {
            "cell_type": "code",
            "source": [
                "summary_table.columns"
            ],
            "metadata": {
                "azdata_cell_guid": "d31c8257-1fc8-43e2-81a7-9888ea4ef363",
                "language": "sql"
            },
            "outputs": [
                {
                    "output_type": "execute_result",
                    "execution_count": 39,
                    "data": {
                        "text/plain": "Index(['VendorNumber', 'VendorName', 'Brand', 'Description', 'PurchasePrice',\n       'ActualPrice', 'Volume', 'TotalPurchaseQuantity',\n       'TotalPurchaseDollars', 'TotalSalesQuantity', 'TotalSalesDollars',\n       'TotalSalesPrice', 'TotalExciseTax', 'FreightCost', 'GrossProfit',\n       'ProfitMargin', 'StockTurnover', 'SalestoPurchaseRatio'],\n      dtype='object')"
                    },
                    "metadata": {}
                }
            ],
            "execution_count": 39
        },
        {
            "cell_type": "code",
            "source": [
                "cursor.execute(\"DROP TABLE IF EXISTS summary_table;\")\n",
                "\n",
                "cursor.execute(\"\"\"\n",
                "CREATE TABLE summary_table (\n",
                "   VendorNumber INT, \n",
                "   VendorName VARCHAR(100), \n",
                "   Brand INT,\n",
                "   Description VARCHAR(100),\n",
                "   PurchasePrice DECIMAL(10,2),\n",
                "   ActualPrice DECIMAL(10,2),\n",
                "   Volume DECIMAL(10,2),\n",
                "   TotalPurchaseQuantity INT,\n",
                "   TotalPurchaseDollars DECIMAL(15,2),\n",
                "   TotalSalesQuantity INT,\n",
                "   TotalSalesDollars DECIMAL(15,2),\n",
                "   TotalSalesPrice DECIMAL(15,2),\n",
                "   TotalExciseTax DECIMAL(15,2),\n",
                "   FreightCost DECIMAL(15,2),\n",
                "   GrossProfit DECIMAL(15,2),\n",
                "   ProfitMargin DECIMAL(15,2),\n",
                "   StockTurnover DECIMAL(15,2),\n",
                "   SalestoPurchaseRatio DECIMAL(15,2),\n",
                "   PRIMARY KEY (VendorNumber, Brand)\n",
                ");\n",
                "\"\"\")\n"
            ],
            "metadata": {
                "azdata_cell_guid": "dc7e2571-118f-4ebb-b034-e0578d488787",
                "language": "sql"
            },
            "outputs": [
                {
                    "output_type": "execute_result",
                    "execution_count": 40,
                    "data": {
                        "text/plain": "<sqlite3.Cursor at 0x1ab0d044dc0>"
                    },
                    "metadata": {}
                }
            ],
            "execution_count": 40
        },
        {
            "cell_type": "code",
            "source": [
                "pd.read_sql_query(\"SELECT * from summary_table\", conn)"
            ],
            "metadata": {
                "azdata_cell_guid": "bb92ec39-c1b7-4fbc-bf44-4c61f76cf3b1",
                "language": "sql"
            },
            "outputs": [
                {
                    "output_type": "execute_result",
                    "execution_count": 41,
                    "data": {
                        "text/html": "<div>\n<style scoped>\n    .dataframe tbody tr th:only-of-type {\n        vertical-align: middle;\n    }\n\n    .dataframe tbody tr th {\n        vertical-align: top;\n    }\n\n    .dataframe thead th {\n        text-align: right;\n    }\n</style>\n<table border=\"1\" class=\"dataframe\">\n  <thead>\n    <tr style=\"text-align: right;\">\n      <th></th>\n      <th>VendorNumber</th>\n      <th>VendorName</th>\n      <th>Brand</th>\n      <th>Description</th>\n      <th>PurchasePrice</th>\n      <th>ActualPrice</th>\n      <th>Volume</th>\n      <th>TotalPurchaseQuantity</th>\n      <th>TotalPurchaseDollars</th>\n      <th>TotalSalesQuantity</th>\n      <th>TotalSalesDollars</th>\n      <th>TotalSalesPrice</th>\n      <th>TotalExciseTax</th>\n      <th>FreightCost</th>\n      <th>GrossProfit</th>\n      <th>ProfitMargin</th>\n      <th>StockTurnover</th>\n      <th>SalestoPurchaseRatio</th>\n    </tr>\n  </thead>\n  <tbody>\n  </tbody>\n</table>\n</div>",
                        "text/plain": "Empty DataFrame\nColumns: [VendorNumber, VendorName, Brand, Description, PurchasePrice, ActualPrice, Volume, TotalPurchaseQuantity, TotalPurchaseDollars, TotalSalesQuantity, TotalSalesDollars, TotalSalesPrice, TotalExciseTax, FreightCost, GrossProfit, ProfitMargin, StockTurnover, SalestoPurchaseRatio]\nIndex: []"
                    },
                    "metadata": {}
                }
            ],
            "execution_count": 41
        },
        {
            "cell_type": "code",
            "source": [
                "summary_table.to_sql('summary_table', conn, if_exists = 'replace', index = False)"
            ],
            "metadata": {
                "azdata_cell_guid": "b671fe86-316b-4bd8-a64f-796ca863364a",
                "language": "sql"
            },
            "outputs": [
                {
                    "output_type": "execute_result",
                    "execution_count": 42,
                    "data": {
                        "text/plain": "12489"
                    },
                    "metadata": {}
                }
            ],
            "execution_count": 42
        },
        {
            "cell_type": "code",
            "source": [
                "pd.read_sql_query(\"SELECT * from summary_table\", conn)"
            ],
            "metadata": {
                "azdata_cell_guid": "65c15147-e9cb-45d6-a216-06bba9cedc81",
                "language": "sql"
            },
            "outputs": [
                {
                    "output_type": "execute_result",
                    "execution_count": 43,
                    "data": {
                        "text/html": "<div>\n<style scoped>\n    .dataframe tbody tr th:only-of-type {\n        vertical-align: middle;\n    }\n\n    .dataframe tbody tr th {\n        vertical-align: top;\n    }\n\n    .dataframe thead th {\n        text-align: right;\n    }\n</style>\n<table border=\"1\" class=\"dataframe\">\n  <thead>\n    <tr style=\"text-align: right;\">\n      <th></th>\n      <th>VendorNumber</th>\n      <th>VendorName</th>\n      <th>Brand</th>\n      <th>Description</th>\n      <th>PurchasePrice</th>\n      <th>ActualPrice</th>\n      <th>Volume</th>\n      <th>TotalPurchaseQuantity</th>\n      <th>TotalPurchaseDollars</th>\n      <th>TotalSalesQuantity</th>\n      <th>TotalSalesDollars</th>\n      <th>TotalSalesPrice</th>\n      <th>TotalExciseTax</th>\n      <th>FreightCost</th>\n      <th>GrossProfit</th>\n      <th>ProfitMargin</th>\n      <th>StockTurnover</th>\n      <th>SalestoPurchaseRatio</th>\n    </tr>\n  </thead>\n  <tbody>\n    <tr>\n      <th>0</th>\n      <td>1128</td>\n      <td>BROWN-FORMAN CORP</td>\n      <td>1233</td>\n      <td>Jack Daniels No 7 Black</td>\n      <td>26.27</td>\n      <td>36.99</td>\n      <td>1750.0</td>\n      <td>145080</td>\n      <td>3811251.60</td>\n      <td>142049.0</td>\n      <td>5101919.51</td>\n      <td>672819.31</td>\n      <td>260999.20</td>\n      <td>68601.68</td>\n      <td>1290667.91</td>\n      <td>25.297693</td>\n      <td>0.979108</td>\n      <td>1.338647</td>\n    </tr>\n    <tr>\n      <th>1</th>\n      <td>4425</td>\n      <td>MARTIGNETTI COMPANIES</td>\n      <td>3405</td>\n      <td>Tito's Handmade Vodka</td>\n      <td>23.19</td>\n      <td>28.99</td>\n      <td>1750.0</td>\n      <td>164038</td>\n      <td>3804041.22</td>\n      <td>160247.0</td>\n      <td>4819073.49</td>\n      <td>561512.37</td>\n      <td>294438.66</td>\n      <td>209.32</td>\n      <td>1015032.27</td>\n      <td>21.062810</td>\n      <td>0.976890</td>\n      <td>1.266830</td>\n    </tr>\n    <tr>\n      <th>2</th>\n      <td>4425</td>\n      <td>MARTIGNETTI COMPANIES</td>\n      <td>3405</td>\n      <td>Tito's Handmade Vodka</td>\n      <td>23.19</td>\n      <td>28.99</td>\n      <td>1750.0</td>\n      <td>164038</td>\n      <td>3804041.22</td>\n      <td>160247.0</td>\n      <td>4819073.49</td>\n      <td>561512.37</td>\n      <td>294438.66</td>\n      <td>144719.92</td>\n      <td>1015032.27</td>\n      <td>21.062810</td>\n      <td>0.976890</td>\n      <td>1.266830</td>\n    </tr>\n    <tr>\n      <th>3</th>\n      <td>17035</td>\n      <td>PERNOD RICARD USA</td>\n      <td>8068</td>\n      <td>Absolut 80 Proof</td>\n      <td>18.24</td>\n      <td>24.99</td>\n      <td>1750.0</td>\n      <td>187407</td>\n      <td>3418303.68</td>\n      <td>187140.0</td>\n      <td>4538120.60</td>\n      <td>461140.15</td>\n      <td>343854.07</td>\n      <td>123780.22</td>\n      <td>1119816.92</td>\n      <td>24.675786</td>\n      <td>0.998575</td>\n      <td>1.327594</td>\n    </tr>\n    <tr>\n      <th>4</th>\n      <td>3960</td>\n      <td>DIAGEO NORTH AMERICA INC</td>\n      <td>4261</td>\n      <td>Capt Morgan Spiced Rum</td>\n      <td>16.17</td>\n      <td>22.99</td>\n      <td>1750.0</td>\n      <td>201682</td>\n      <td>3261197.94</td>\n      <td>200412.0</td>\n      <td>4475972.88</td>\n      <td>420050.01</td>\n      <td>368242.80</td>\n      <td>257032.07</td>\n      <td>1214774.94</td>\n      <td>27.139908</td>\n      <td>0.993703</td>\n      <td>1.372493</td>\n    </tr>\n    <tr>\n      <th>...</th>\n      <td>...</td>\n      <td>...</td>\n      <td>...</td>\n      <td>...</td>\n      <td>...</td>\n      <td>...</td>\n      <td>...</td>\n      <td>...</td>\n      <td>...</td>\n      <td>...</td>\n      <td>...</td>\n      <td>...</td>\n      <td>...</td>\n      <td>...</td>\n      <td>...</td>\n      <td>...</td>\n      <td>...</td>\n      <td>...</td>\n    </tr>\n    <tr>\n      <th>12484</th>\n      <td>9815</td>\n      <td>WINE GROUP INC</td>\n      <td>8527</td>\n      <td>Concannon Glen Ellen Wh Zin</td>\n      <td>1.32</td>\n      <td>4.99</td>\n      <td>750.0</td>\n      <td>2</td>\n      <td>2.64</td>\n      <td>5.0</td>\n      <td>15.95</td>\n      <td>10.96</td>\n      <td>0.55</td>\n      <td>27100.41</td>\n      <td>13.31</td>\n      <td>83.448276</td>\n      <td>2.500000</td>\n      <td>6.041667</td>\n    </tr>\n    <tr>\n      <th>12485</th>\n      <td>8004</td>\n      <td>SAZERAC CO INC</td>\n      <td>5683</td>\n      <td>Dr McGillicuddy's Apple Pie</td>\n      <td>0.39</td>\n      <td>0.49</td>\n      <td>50.0</td>\n      <td>6</td>\n      <td>2.34</td>\n      <td>134.0</td>\n      <td>65.66</td>\n      <td>1.47</td>\n      <td>7.04</td>\n      <td>50293.62</td>\n      <td>63.32</td>\n      <td>96.436186</td>\n      <td>22.333333</td>\n      <td>28.059829</td>\n    </tr>\n    <tr>\n      <th>12486</th>\n      <td>3924</td>\n      <td>HEAVEN HILL DISTILLERIES</td>\n      <td>9123</td>\n      <td>Deep Eddy Vodka</td>\n      <td>0.74</td>\n      <td>0.99</td>\n      <td>50.0</td>\n      <td>2</td>\n      <td>1.48</td>\n      <td>2.0</td>\n      <td>1.98</td>\n      <td>0.99</td>\n      <td>0.10</td>\n      <td>14069.87</td>\n      <td>0.50</td>\n      <td>25.252525</td>\n      <td>1.000000</td>\n      <td>1.337838</td>\n    </tr>\n    <tr>\n      <th>12487</th>\n      <td>3960</td>\n      <td>DIAGEO NORTH AMERICA INC</td>\n      <td>6127</td>\n      <td>The Club Strawbry Margarita</td>\n      <td>1.47</td>\n      <td>1.99</td>\n      <td>200.0</td>\n      <td>1</td>\n      <td>1.47</td>\n      <td>72.0</td>\n      <td>143.28</td>\n      <td>77.61</td>\n      <td>15.12</td>\n      <td>257032.07</td>\n      <td>141.81</td>\n      <td>98.974037</td>\n      <td>72.000000</td>\n      <td>97.469388</td>\n    </tr>\n    <tr>\n      <th>12488</th>\n      <td>7245</td>\n      <td>PROXIMO SPIRITS INC.</td>\n      <td>3065</td>\n      <td>Three Olives Grape Vodka</td>\n      <td>0.71</td>\n      <td>0.99</td>\n      <td>50.0</td>\n      <td>1</td>\n      <td>0.71</td>\n      <td>86.0</td>\n      <td>85.14</td>\n      <td>33.66</td>\n      <td>4.46</td>\n      <td>38994.78</td>\n      <td>84.43</td>\n      <td>99.166079</td>\n      <td>86.000000</td>\n      <td>119.915493</td>\n    </tr>\n  </tbody>\n</table>\n<p>12489 rows × 18 columns</p>\n</div>",
                        "text/plain": "       VendorNumber                VendorName  Brand  \\\n0              1128         BROWN-FORMAN CORP   1233   \n1              4425     MARTIGNETTI COMPANIES   3405   \n2              4425     MARTIGNETTI COMPANIES   3405   \n3             17035         PERNOD RICARD USA   8068   \n4              3960  DIAGEO NORTH AMERICA INC   4261   \n...             ...                       ...    ...   \n12484          9815            WINE GROUP INC   8527   \n12485          8004            SAZERAC CO INC   5683   \n12486          3924  HEAVEN HILL DISTILLERIES   9123   \n12487          3960  DIAGEO NORTH AMERICA INC   6127   \n12488          7245      PROXIMO SPIRITS INC.   3065   \n\n                       Description  PurchasePrice  ActualPrice  Volume  \\\n0          Jack Daniels No 7 Black          26.27        36.99  1750.0   \n1            Tito's Handmade Vodka          23.19        28.99  1750.0   \n2            Tito's Handmade Vodka          23.19        28.99  1750.0   \n3                 Absolut 80 Proof          18.24        24.99  1750.0   \n4           Capt Morgan Spiced Rum          16.17        22.99  1750.0   \n...                            ...            ...          ...     ...   \n12484  Concannon Glen Ellen Wh Zin           1.32         4.99   750.0   \n12485  Dr McGillicuddy's Apple Pie           0.39         0.49    50.0   \n12486              Deep Eddy Vodka           0.74         0.99    50.0   \n12487  The Club Strawbry Margarita           1.47         1.99   200.0   \n12488     Three Olives Grape Vodka           0.71         0.99    50.0   \n\n       TotalPurchaseQuantity  TotalPurchaseDollars  TotalSalesQuantity  \\\n0                     145080            3811251.60            142049.0   \n1                     164038            3804041.22            160247.0   \n2                     164038            3804041.22            160247.0   \n3                     187407            3418303.68            187140.0   \n4                     201682            3261197.94            200412.0   \n...                      ...                   ...                 ...   \n12484                      2                  2.64                 5.0   \n12485                      6                  2.34               134.0   \n12486                      2                  1.48                 2.0   \n12487                      1                  1.47                72.0   \n12488                      1                  0.71                86.0   \n\n       TotalSalesDollars  TotalSalesPrice  TotalExciseTax  FreightCost  \\\n0             5101919.51        672819.31       260999.20     68601.68   \n1             4819073.49        561512.37       294438.66       209.32   \n2             4819073.49        561512.37       294438.66    144719.92   \n3             4538120.60        461140.15       343854.07    123780.22   \n4             4475972.88        420050.01       368242.80    257032.07   \n...                  ...              ...             ...          ...   \n12484              15.95            10.96            0.55     27100.41   \n12485              65.66             1.47            7.04     50293.62   \n12486               1.98             0.99            0.10     14069.87   \n12487             143.28            77.61           15.12    257032.07   \n12488              85.14            33.66            4.46     38994.78   \n\n       GrossProfit  ProfitMargin  StockTurnover  SalestoPurchaseRatio  \n0       1290667.91     25.297693       0.979108              1.338647  \n1       1015032.27     21.062810       0.976890              1.266830  \n2       1015032.27     21.062810       0.976890              1.266830  \n3       1119816.92     24.675786       0.998575              1.327594  \n4       1214774.94     27.139908       0.993703              1.372493  \n...            ...           ...            ...                   ...  \n12484        13.31     83.448276       2.500000              6.041667  \n12485        63.32     96.436186      22.333333             28.059829  \n12486         0.50     25.252525       1.000000              1.337838  \n12487       141.81     98.974037      72.000000             97.469388  \n12488        84.43     99.166079      86.000000            119.915493  \n\n[12489 rows x 18 columns]"
                    },
                    "metadata": {}
                }
            ],
            "execution_count": 43
        },
        {
            "cell_type": "code",
            "source": [
                "import sqlite3\n",
                "import pandas as pd\n",
                "import logging\n",
                "import time\n",
                "from ingestion_db import ingest_db\n",
                "\n",
                "logging.basicConfig(\n",
                "    filename='logs/get_vendor_summary.log',\n",
                "    level=logging.DEBUG,\n",
                "    format='%(asctime)s - %(levelname)s - %(message)s',\n",
                "    filemode='a')\n",
                "\n",
                "def create_vendor_summary(conn):\n",
                "    '''this function will merge the different tables to get the overall vendor summary and adding new columns in the resultant data'''\n",
                "    summary_table = pd.read_sql_query(\"\"\"WITH FreightSummary as(\n",
                "    SELECT\n",
                "        VendorNumber,\n",
                "        SUM(Freight) as FreightCost\n",
                "    FROM vendor_invoice\n",
                "    GROUP BY VendorName\n",
                "),\n",
                "\n",
                "PurchaseSummary as (\n",
                "    SELECT\n",
                "        p.VendorNumber,\n",
                "        p.VendorName,\n",
                "        p.Brand,\n",
                "        p.Description,\n",
                "        p.PurchasePrice,\n",
                "        pp.Price as ActualPrice,\n",
                "        pp.Volume,\n",
                "        SUM(p.Quantity) as TotalPurchaseQuantity,\n",
                "        SUM(p.Dollars) as TotalPurchaseDollars\n",
                "    FROM purchases p\n",
                "    JOIN purchase_prices pp\n",
                "        ON p.Brand = pp.Brand\n",
                "    WHERE p.PurchasePrice > 0\n",
                "    GROUP BY p.VendorNumber,p.VendorName, p.Brand, p.Description, p.PurchasePrice, pp.Price, pp.Volume\n",
                "),\n",
                "    \n",
                "salesSummary as(\n",
                "    SELECT\n",
                "        VendorNo,\n",
                "        Brand,\n",
                "        SUM(SalesQuantity) as TotalSalesQuantity,\n",
                "        SUM(SalesDollars) as TotalSalesDollars,\n",
                "        SUM(SalesPrice) as TotalSalesPrice,\n",
                "        SUM(ExciseTax) as TotalExciseTax\n",
                "    FROM sales\n",
                "    GROUP BY VendorNO, Brand\n",
                ")\n",
                "\n",
                "SELECT\n",
                "    ps.VendorNumber,\n",
                "    ps.VendorName,\n",
                "    ps.Brand,\n",
                "    ps.Description,\n",
                "    ps.PurchasePrice,\n",
                "    ps.ActualPrice,\n",
                "    ps.Volume,\n",
                "    ps.TotalPurchaseQuantity,\n",
                "    ps.TotalPurchaseDollars,\n",
                "    ss.TotalSalesQuantity,\n",
                "    ss.TotalSalesDollars,\n",
                "    ss.TotalSalesPrice,\n",
                "    ss.TotalExciseTax,\n",
                "    fs.FreightCost\n",
                "    \n",
                "FROM PurchaseSummary ps\n",
                "LEFT JOIN \n",
                "salesSummary ss\n",
                "    ON ps.VendorNumber = ss.VendorNO\n",
                "    AND ps.Brand = ss.Brand\n",
                "LEFT JOIN\n",
                "FreightSummary fs\n",
                "    ON ps.VendorNumber = fs.VendorNumber\n",
                "ORDER BY ps.TotalPurchaseDollars DESC\"\"\", conn)\n",
                "    \n",
                "    return summary_table\n",
                "\n",
                "def clean_data(df):\n",
                "    '''this function will clean the data'''\n",
                "    #change datatype to float\n",
                "    df['Volume'] = df['Volume'].astype('float')\n",
                "    \n",
                "    #filling missing value with 0\n",
                "    df.fillna(0, inplace=True)\n",
                "    \n",
                "    #removing spaces from categorical columns(white space)\n",
                "    df['VendorName'] = df['VendorName'].str.strip()\n",
                "    df['Description'] = df['Description'].str.strip()\n",
                "    \n",
                "    #creating new columns for better analysis\n",
                "    df['GrossProfit'] = df['TotalSalesDollars'] - df['TotalPurchaseDollars']\n",
                "    df['ProfitMargin'] = (df['GrossProfit'] / df['TotalSalesDollars'])*100\n",
                "    df['StockTurnover'] = df['TotalSalesQuantity'] / df['TotalPurchaseQuantity']\n",
                "    df['SalestoPurchaseRatio'] = df['TotalSalesDollars'] / df['TotalPurchaseDollars']\n",
                "    \n",
                "    return df\n",
                "  \n",
                "if __name__ == '__main__':\n",
                "    #creating database connection\n",
                "    conn = sqlite3.connect('inventory.db')\n",
                "    \n",
                "    logging.info('Creating vendor summary table.....')\n",
                "    summary_df = create_vendor_summary(conn)\n",
                "    logging.info(summary_df.head())\n",
                "    \n",
                "    logging.info('Cleaning Data.....')\n",
                "    clean_df = clean_data(summary_df)\n",
                "    logging.info(clean_df.head())\n",
                "    \n",
                "    logging.info('INgesting data......')\n",
                "    ingest_db(clean_df, 'summary_table', conn)\n",
                "    logging.info('Completed')"
            ],
            "metadata": {
                "azdata_cell_guid": "5abaef05-2358-4c04-9bf0-1c6e1e9c48c3",
                "language": "sql"
            },
            "outputs": [],
            "execution_count": 44
        }
    ]
}